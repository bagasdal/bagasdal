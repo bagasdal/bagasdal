{
  "nbformat": 4,
  "nbformat_minor": 0,
  "metadata": {
    "colab": {
      "name": "Fruits Classification.ipynb",
      "provenance": [],
      "mount_file_id": "1UvVV7BaSU-Pz-g87q9aiFpGu-OfJEvzq",
      "authorship_tag": "ABX9TyPilk5LFL+V5oMHqFbOHUUy",
      "include_colab_link": true
    },
    "kernelspec": {
      "name": "python3",
      "display_name": "Python 3"
    },
    "language_info": {
      "name": "python"
    },
    "widgets": {
      "application/vnd.jupyter.widget-state+json": {
        "a2932fa0c62145be80f5f7f6dbb0f0a0": {
          "model_module": "@jupyter-widgets/controls",
          "model_name": "HBoxModel",
          "state": {
            "_view_name": "HBoxView",
            "_dom_classes": [],
            "_model_name": "HBoxModel",
            "_view_module": "@jupyter-widgets/controls",
            "_model_module_version": "1.5.0",
            "_view_count": null,
            "_view_module_version": "1.5.0",
            "box_style": "",
            "layout": "IPY_MODEL_15d0690a46414cc4870789eede805ff5",
            "_model_module": "@jupyter-widgets/controls",
            "children": [
              "IPY_MODEL_7aea4cdde62b41b6a85e45cf7e3e08b7",
              "IPY_MODEL_ebc5444b9c4f47ca82d5e78fe3e85c2d"
            ]
          },
          "model_module_version": "1.5.0"
        },
        "15d0690a46414cc4870789eede805ff5": {
          "model_module": "@jupyter-widgets/base",
          "model_name": "LayoutModel",
          "state": {
            "_view_name": "LayoutView",
            "grid_template_rows": null,
            "right": null,
            "justify_content": null,
            "_view_module": "@jupyter-widgets/base",
            "overflow": null,
            "_model_module_version": "1.2.0",
            "_view_count": null,
            "flex_flow": null,
            "width": null,
            "min_width": null,
            "border": null,
            "align_items": null,
            "bottom": null,
            "_model_module": "@jupyter-widgets/base",
            "top": null,
            "grid_column": null,
            "overflow_y": null,
            "overflow_x": null,
            "grid_auto_flow": null,
            "grid_area": null,
            "grid_template_columns": null,
            "flex": null,
            "_model_name": "LayoutModel",
            "justify_items": null,
            "grid_row": null,
            "max_height": null,
            "align_content": null,
            "visibility": null,
            "align_self": null,
            "height": null,
            "min_height": null,
            "padding": null,
            "grid_auto_rows": null,
            "grid_gap": null,
            "max_width": null,
            "order": null,
            "_view_module_version": "1.2.0",
            "grid_template_areas": null,
            "object_position": null,
            "object_fit": null,
            "grid_auto_columns": null,
            "margin": null,
            "display": null,
            "left": null
          },
          "model_module_version": "1.2.0"
        },
        "7aea4cdde62b41b6a85e45cf7e3e08b7": {
          "model_module": "@jupyter-widgets/controls",
          "model_name": "FloatProgressModel",
          "state": {
            "_view_name": "ProgressView",
            "style": "IPY_MODEL_9c5ce8cd8d3f461a971a7398489dd820",
            "_dom_classes": [],
            "description": "",
            "_model_name": "FloatProgressModel",
            "bar_style": "success",
            "max": 1,
            "_view_module": "@jupyter-widgets/controls",
            "_model_module_version": "1.5.0",
            "value": 1,
            "_view_count": null,
            "_view_module_version": "1.5.0",
            "orientation": "horizontal",
            "min": 0,
            "description_tooltip": null,
            "_model_module": "@jupyter-widgets/controls",
            "layout": "IPY_MODEL_66f65e11ca6342c1b9a61343141650c2"
          },
          "model_module_version": "1.5.0"
        },
        "ebc5444b9c4f47ca82d5e78fe3e85c2d": {
          "model_module": "@jupyter-widgets/controls",
          "model_name": "HTMLModel",
          "state": {
            "_view_name": "HTMLView",
            "style": "IPY_MODEL_2831b6e197e546dab970d7dcd8c0fe99",
            "_dom_classes": [],
            "description": "",
            "_model_name": "HTMLModel",
            "placeholder": "​",
            "_view_module": "@jupyter-widgets/controls",
            "_model_module_version": "1.5.0",
            "value": " 10859/? [43:50&lt;00:00,  4.13it/s]",
            "_view_count": null,
            "_view_module_version": "1.5.0",
            "description_tooltip": null,
            "_model_module": "@jupyter-widgets/controls",
            "layout": "IPY_MODEL_f93a1342d45c4a92ade374134f153cbc"
          },
          "model_module_version": "1.5.0"
        },
        "9c5ce8cd8d3f461a971a7398489dd820": {
          "model_module": "@jupyter-widgets/controls",
          "model_name": "ProgressStyleModel",
          "state": {
            "_view_name": "StyleView",
            "_model_name": "ProgressStyleModel",
            "description_width": "initial",
            "_view_module": "@jupyter-widgets/base",
            "_model_module_version": "1.5.0",
            "_view_count": null,
            "_view_module_version": "1.2.0",
            "bar_color": null,
            "_model_module": "@jupyter-widgets/controls"
          },
          "model_module_version": "1.5.0"
        },
        "66f65e11ca6342c1b9a61343141650c2": {
          "model_module": "@jupyter-widgets/base",
          "model_name": "LayoutModel",
          "state": {
            "_view_name": "LayoutView",
            "grid_template_rows": null,
            "right": null,
            "justify_content": null,
            "_view_module": "@jupyter-widgets/base",
            "overflow": null,
            "_model_module_version": "1.2.0",
            "_view_count": null,
            "flex_flow": null,
            "width": null,
            "min_width": null,
            "border": null,
            "align_items": null,
            "bottom": null,
            "_model_module": "@jupyter-widgets/base",
            "top": null,
            "grid_column": null,
            "overflow_y": null,
            "overflow_x": null,
            "grid_auto_flow": null,
            "grid_area": null,
            "grid_template_columns": null,
            "flex": null,
            "_model_name": "LayoutModel",
            "justify_items": null,
            "grid_row": null,
            "max_height": null,
            "align_content": null,
            "visibility": null,
            "align_self": null,
            "height": null,
            "min_height": null,
            "padding": null,
            "grid_auto_rows": null,
            "grid_gap": null,
            "max_width": null,
            "order": null,
            "_view_module_version": "1.2.0",
            "grid_template_areas": null,
            "object_position": null,
            "object_fit": null,
            "grid_auto_columns": null,
            "margin": null,
            "display": null,
            "left": null
          },
          "model_module_version": "1.2.0"
        },
        "2831b6e197e546dab970d7dcd8c0fe99": {
          "model_module": "@jupyter-widgets/controls",
          "model_name": "DescriptionStyleModel",
          "state": {
            "_view_name": "StyleView",
            "_model_name": "DescriptionStyleModel",
            "description_width": "",
            "_view_module": "@jupyter-widgets/base",
            "_model_module_version": "1.5.0",
            "_view_count": null,
            "_view_module_version": "1.2.0",
            "_model_module": "@jupyter-widgets/controls"
          },
          "model_module_version": "1.5.0"
        },
        "f93a1342d45c4a92ade374134f153cbc": {
          "model_module": "@jupyter-widgets/base",
          "model_name": "LayoutModel",
          "state": {
            "_view_name": "LayoutView",
            "grid_template_rows": null,
            "right": null,
            "justify_content": null,
            "_view_module": "@jupyter-widgets/base",
            "overflow": null,
            "_model_module_version": "1.2.0",
            "_view_count": null,
            "flex_flow": null,
            "width": null,
            "min_width": null,
            "border": null,
            "align_items": null,
            "bottom": null,
            "_model_module": "@jupyter-widgets/base",
            "top": null,
            "grid_column": null,
            "overflow_y": null,
            "overflow_x": null,
            "grid_auto_flow": null,
            "grid_area": null,
            "grid_template_columns": null,
            "flex": null,
            "_model_name": "LayoutModel",
            "justify_items": null,
            "grid_row": null,
            "max_height": null,
            "align_content": null,
            "visibility": null,
            "align_self": null,
            "height": null,
            "min_height": null,
            "padding": null,
            "grid_auto_rows": null,
            "grid_gap": null,
            "max_width": null,
            "order": null,
            "_view_module_version": "1.2.0",
            "grid_template_areas": null,
            "object_position": null,
            "object_fit": null,
            "grid_auto_columns": null,
            "margin": null,
            "display": null,
            "left": null
          },
          "model_module_version": "1.2.0"
        }
      }
    }
  },
  "cells": [
    {
      "cell_type": "markdown",
      "metadata": {
        "id": "view-in-github",
        "colab_type": "text"
      },
      "source": [
        "<a href=\"https://colab.research.google.com/github/bagasdal/bagasdal/blob/main/Fruits_Classification.ipynb\" target=\"_parent\"><img src=\"https://colab.research.google.com/assets/colab-badge.svg\" alt=\"Open In Colab\"/></a>"
      ]
    },
    {
      "cell_type": "markdown",
      "metadata": {
        "id": "avupUojpf80D"
      },
      "source": [
        "# Fruit classification\n",
        "\n",
        "\n",
        "Bagas Daliyanto"
      ]
    },
    {
      "cell_type": "code",
      "metadata": {
        "id": "ppNgjOVGQOd4"
      },
      "source": [
        "import os\n",
        "import cv2\n",
        "\n",
        "directory = '/content/drive/MyDrive/Fruits_360_Classification'\n",
        "train_dir = os.path.join(directory,'Fruits_train')\n",
        "test_dir = os.path.join(directory, 'Fruits_test')\n",
        "# classes=[\"Apple Red 1\",\"Avocado\",\"Banana\",\"BlueBerry\",\"Corn\",\"Dates\",\"Eggplant\",\n",
        "#          \"Grape Pink\",\"Kiwi\",\"Lemon\",\"Mango\",\"Orange\",\"Pineapple\",\"Rambutan\",\n",
        "#          \"Salak\",\"Strawberry\",\"Watermelon\"]\n",
        "\n",
        "# Populate train data\n",
        "file_name = []\n",
        "tag = []\n",
        "full_path = []\n",
        "for path, subdirs, files in os.walk(train_dir, test_dir):\n",
        "    for name in files:\n",
        "        full_path.append(os.path.join(path, name)) \n",
        "        tag.append(path.split('/')[-1])            \n",
        "        file_name.append(name)\n",
        "\n",
        "# Populate test data\n",
        "file_name2 = []\n",
        "tag2 = []\n",
        "full_path2 = []\n",
        "for path, subdirs, files in os.walk(test_dir, test_dir):\n",
        "    for name in files:\n",
        "        full_path2.append(os.path.join(path, name)) \n",
        "        tag2.append(path.split('/')[-1])           \n",
        "        file_name2.append(name)\n",
        "\n",
        "# all_arrays=[]\n",
        "# img_size=100\n",
        "# for i in classes:\n",
        "#     path=os.path.join(train_dir,i)\n",
        "#     class_num=classes.index(i)\n",
        "#     for img in os.listdir(path):\n",
        "#         #img_array=cv2.imread(os.path.join(path,img),\n",
        "#         #                     cv2.IMREAD_GRAYSCALE)\n",
        "#         img_array=cv2.imread(os.path.join(path,img))\n",
        "#         img_array=cv2.cvtColor(img_array, cv2.COLOR_BGR2RGB)\n",
        "#         #img_array=cv2.resize(img_array,(img_size,img_size))\n",
        "#         all_arrays.append([img_array,class_num])"
      ],
      "execution_count": null,
      "outputs": []
    },
    {
      "cell_type": "code",
      "metadata": {
        "colab": {
          "base_uri": "https://localhost:8080/"
        },
        "id": "e4pA6MH3-WIG",
        "outputId": "6746386c-773e-4f1c-ce3f-758d8ce6c9fa"
      },
      "source": [
        "print(os.listdir('/content/drive/MyDrive/Fruits_360_Classification/'))"
      ],
      "execution_count": null,
      "outputs": [
        {
          "output_type": "stream",
          "text": [
            "['Fruits_train', 'Fruits_test']\n"
          ],
          "name": "stdout"
        }
      ]
    },
    {
      "cell_type": "code",
      "metadata": {
        "colab": {
          "base_uri": "https://localhost:8080/"
        },
        "id": "20oQyEcz9uMs",
        "outputId": "93e1ac2b-de89-4d92-c268-6c47b30ab772"
      },
      "source": [
        "import pandas as pd\n",
        "\n",
        "# create data frame\n",
        "df = pd.DataFrame({'path': full_path, 'file_name': file_name, 'tag': tag})\n",
        "df_test = pd.DataFrame({'path': full_path2, 'file_name': file_name2, 'tag': tag2})\n",
        "\n",
        "# checking data size\n",
        "df.groupby(['tag']).size()"
      ],
      "execution_count": null,
      "outputs": [
        {
          "output_type": "execute_result",
          "data": {
            "text/plain": [
              "tag\n",
              "Apple Red 1    492\n",
              "Avocado        427\n",
              "Banana         490\n",
              "Blueberry      462\n",
              "Corn           450\n",
              "Dates          490\n",
              "Eggplant       468\n",
              "Grape Pink     492\n",
              "Kiwi           466\n",
              "Lemon          492\n",
              "Mango          490\n",
              "Orange         479\n",
              "Pineapple      490\n",
              "Rambutan       492\n",
              "Salak          490\n",
              "Strawberry     492\n",
              "Watermelon     475\n",
              "dtype: int64"
            ]
          },
          "metadata": {
            "tags": []
          },
          "execution_count": 22
        }
      ]
    },
    {
      "cell_type": "code",
      "metadata": {
        "colab": {
          "base_uri": "https://localhost:8080/"
        },
        "id": "wW5VcHeBJRoU",
        "outputId": "7ef9a80d-a9eb-4daa-e55b-dd1fa260b08e"
      },
      "source": [
        "df_test.groupby(['tag']).size()"
      ],
      "execution_count": null,
      "outputs": [
        {
          "output_type": "execute_result",
          "data": {
            "text/plain": [
              "tag\n",
              "Apple Red 1    164\n",
              "Avocado        143\n",
              "Banana         166\n",
              "Blueberry      154\n",
              "Corn           150\n",
              "Dates          166\n",
              "Eggplant       156\n",
              "Grape Pink     164\n",
              "Kiwi           156\n",
              "Lemon          164\n",
              "Mango          166\n",
              "Orange         160\n",
              "Pineapple      166\n",
              "Rambutan       164\n",
              "Salak          162\n",
              "Strawberry     164\n",
              "Watermelon     157\n",
              "dtype: int64"
            ]
          },
          "metadata": {
            "tags": []
          },
          "execution_count": 23
        }
      ]
    },
    {
      "cell_type": "code",
      "metadata": {
        "id": "c-zcltu7Je4v"
      },
      "source": [
        "df_gabungan = pd.concat([df, df_test], ignore_index=True)"
      ],
      "execution_count": null,
      "outputs": []
    },
    {
      "cell_type": "code",
      "metadata": {
        "colab": {
          "base_uri": "https://localhost:8080/"
        },
        "id": "rsKpzaQ9Jj10",
        "outputId": "7ab6447b-3cea-4a15-9936-ea237f14ff5a"
      },
      "source": [
        "df_gabungan.info()"
      ],
      "execution_count": null,
      "outputs": [
        {
          "output_type": "stream",
          "text": [
            "<class 'pandas.core.frame.DataFrame'>\n",
            "RangeIndex: 10859 entries, 0 to 10858\n",
            "Data columns (total 3 columns):\n",
            " #   Column     Non-Null Count  Dtype \n",
            "---  ------     --------------  ----- \n",
            " 0   path       10859 non-null  object\n",
            " 1   file_name  10859 non-null  object\n",
            " 2   tag        10859 non-null  object\n",
            "dtypes: object(3)\n",
            "memory usage: 254.6+ KB\n"
          ],
          "name": "stdout"
        }
      ]
    },
    {
      "cell_type": "code",
      "metadata": {
        "colab": {
          "base_uri": "https://localhost:8080/",
          "height": 203
        },
        "id": "9Vcm8KCdJqtI",
        "outputId": "8a08882f-95de-417d-eac8-3f4527a6ea12"
      },
      "source": [
        "df_gabungan.head()"
      ],
      "execution_count": null,
      "outputs": [
        {
          "output_type": "execute_result",
          "data": {
            "text/html": [
              "<div>\n",
              "<style scoped>\n",
              "    .dataframe tbody tr th:only-of-type {\n",
              "        vertical-align: middle;\n",
              "    }\n",
              "\n",
              "    .dataframe tbody tr th {\n",
              "        vertical-align: top;\n",
              "    }\n",
              "\n",
              "    .dataframe thead th {\n",
              "        text-align: right;\n",
              "    }\n",
              "</style>\n",
              "<table border=\"1\" class=\"dataframe\">\n",
              "  <thead>\n",
              "    <tr style=\"text-align: right;\">\n",
              "      <th></th>\n",
              "      <th>path</th>\n",
              "      <th>file_name</th>\n",
              "      <th>tag</th>\n",
              "    </tr>\n",
              "  </thead>\n",
              "  <tbody>\n",
              "    <tr>\n",
              "      <th>0</th>\n",
              "      <td>/content/drive/MyDrive/Fruits_360_Classificati...</td>\n",
              "      <td>15_100.jpg</td>\n",
              "      <td>Eggplant</td>\n",
              "    </tr>\n",
              "    <tr>\n",
              "      <th>1</th>\n",
              "      <td>/content/drive/MyDrive/Fruits_360_Classificati...</td>\n",
              "      <td>211_100.jpg</td>\n",
              "      <td>Eggplant</td>\n",
              "    </tr>\n",
              "    <tr>\n",
              "      <th>2</th>\n",
              "      <td>/content/drive/MyDrive/Fruits_360_Classificati...</td>\n",
              "      <td>203_100.jpg</td>\n",
              "      <td>Eggplant</td>\n",
              "    </tr>\n",
              "    <tr>\n",
              "      <th>3</th>\n",
              "      <td>/content/drive/MyDrive/Fruits_360_Classificati...</td>\n",
              "      <td>206_100.jpg</td>\n",
              "      <td>Eggplant</td>\n",
              "    </tr>\n",
              "    <tr>\n",
              "      <th>4</th>\n",
              "      <td>/content/drive/MyDrive/Fruits_360_Classificati...</td>\n",
              "      <td>204_100.jpg</td>\n",
              "      <td>Eggplant</td>\n",
              "    </tr>\n",
              "  </tbody>\n",
              "</table>\n",
              "</div>"
            ],
            "text/plain": [
              "                                                path    file_name       tag\n",
              "0  /content/drive/MyDrive/Fruits_360_Classificati...   15_100.jpg  Eggplant\n",
              "1  /content/drive/MyDrive/Fruits_360_Classificati...  211_100.jpg  Eggplant\n",
              "2  /content/drive/MyDrive/Fruits_360_Classificati...  203_100.jpg  Eggplant\n",
              "3  /content/drive/MyDrive/Fruits_360_Classificati...  206_100.jpg  Eggplant\n",
              "4  /content/drive/MyDrive/Fruits_360_Classificati...  204_100.jpg  Eggplant"
            ]
          },
          "metadata": {
            "tags": []
          },
          "execution_count": 26
        }
      ]
    },
    {
      "cell_type": "code",
      "metadata": {
        "id": "pGmYVl-KOo_c"
      },
      "source": [
        "from sklearn.model_selection import train_test_split\n",
        "\n",
        "\n",
        "# labelling\n",
        "X= df_gabungan['path']\n",
        "y= df_gabungan['tag']\n",
        "\n",
        "# split dataset\n",
        "X_train, X_val, y_train, y_val = train_test_split(\n",
        "    X, y, test_size=0.2, random_state=1)"
      ],
      "execution_count": null,
      "outputs": []
    },
    {
      "cell_type": "code",
      "metadata": {
        "colab": {
          "base_uri": "https://localhost:8080/",
          "height": 864
        },
        "id": "XRj5N99cOx-i",
        "outputId": "32edddff-f907-4f18-a99a-7578d67fbb17"
      },
      "source": [
        "# create data frame for validation\n",
        "df_train = pd.DataFrame({'path': X_train, 'tag': y_train, 'set': 'train'})\n",
        "df_val = pd.DataFrame({'path': X_val, 'tag': y_val, 'set': 'validation'})\n",
        "\n",
        "# checking data size\n",
        "print('train size', len(df_train))\n",
        "print('val size', len(df_val))\n",
        "\n",
        "# combine data frame\n",
        "df_all = df_train.append([df_val]).reset_index(drop=1)\n",
        "print('\\n')\n",
        "print(df_all.groupby(['set','tag']).size(),'\\n')\n",
        "print('\\n')\n",
        "\n",
        "df_all.sample(3)"
      ],
      "execution_count": null,
      "outputs": [
        {
          "output_type": "stream",
          "text": [
            "train size 8687\n",
            "val size 2172\n",
            "\n",
            "\n",
            "set         tag        \n",
            "train       Apple Red 1    525\n",
            "            Avocado        458\n",
            "            Banana         526\n",
            "            Blueberry      510\n",
            "            Corn           488\n",
            "            Dates          512\n",
            "            Eggplant       488\n",
            "            Grape Pink     520\n",
            "            Kiwi           495\n",
            "            Lemon          520\n",
            "            Mango          542\n",
            "            Orange         525\n",
            "            Pineapple      511\n",
            "            Rambutan       532\n",
            "            Salak          519\n",
            "            Strawberry     526\n",
            "            Watermelon     490\n",
            "validation  Apple Red 1    131\n",
            "            Avocado        112\n",
            "            Banana         130\n",
            "            Blueberry      106\n",
            "            Corn           112\n",
            "            Dates          144\n",
            "            Eggplant       136\n",
            "            Grape Pink     136\n",
            "            Kiwi           127\n",
            "            Lemon          136\n",
            "            Mango          114\n",
            "            Orange         114\n",
            "            Pineapple      145\n",
            "            Rambutan       124\n",
            "            Salak          133\n",
            "            Strawberry     130\n",
            "            Watermelon     142\n",
            "dtype: int64 \n",
            "\n",
            "\n",
            "\n"
          ],
          "name": "stdout"
        },
        {
          "output_type": "execute_result",
          "data": {
            "text/html": [
              "<div>\n",
              "<style scoped>\n",
              "    .dataframe tbody tr th:only-of-type {\n",
              "        vertical-align: middle;\n",
              "    }\n",
              "\n",
              "    .dataframe tbody tr th {\n",
              "        vertical-align: top;\n",
              "    }\n",
              "\n",
              "    .dataframe thead th {\n",
              "        text-align: right;\n",
              "    }\n",
              "</style>\n",
              "<table border=\"1\" class=\"dataframe\">\n",
              "  <thead>\n",
              "    <tr style=\"text-align: right;\">\n",
              "      <th></th>\n",
              "      <th>path</th>\n",
              "      <th>tag</th>\n",
              "      <th>set</th>\n",
              "    </tr>\n",
              "  </thead>\n",
              "  <tbody>\n",
              "    <tr>\n",
              "      <th>988</th>\n",
              "      <td>/content/drive/MyDrive/Fruits_360_Classificati...</td>\n",
              "      <td>Pineapple</td>\n",
              "      <td>train</td>\n",
              "    </tr>\n",
              "    <tr>\n",
              "      <th>9041</th>\n",
              "      <td>/content/drive/MyDrive/Fruits_360_Classificati...</td>\n",
              "      <td>Dates</td>\n",
              "      <td>validation</td>\n",
              "    </tr>\n",
              "    <tr>\n",
              "      <th>9725</th>\n",
              "      <td>/content/drive/MyDrive/Fruits_360_Classificati...</td>\n",
              "      <td>Avocado</td>\n",
              "      <td>validation</td>\n",
              "    </tr>\n",
              "  </tbody>\n",
              "</table>\n",
              "</div>"
            ],
            "text/plain": [
              "                                                   path        tag         set\n",
              "988   /content/drive/MyDrive/Fruits_360_Classificati...  Pineapple       train\n",
              "9041  /content/drive/MyDrive/Fruits_360_Classificati...      Dates  validation\n",
              "9725  /content/drive/MyDrive/Fruits_360_Classificati...    Avocado  validation"
            ]
          },
          "metadata": {
            "tags": []
          },
          "execution_count": 28
        }
      ]
    },
    {
      "cell_type": "code",
      "metadata": {
        "colab": {
          "base_uri": "https://localhost:8080/",
          "height": 66,
          "referenced_widgets": [
            "a2932fa0c62145be80f5f7f6dbb0f0a0",
            "15d0690a46414cc4870789eede805ff5",
            "7aea4cdde62b41b6a85e45cf7e3e08b7",
            "ebc5444b9c4f47ca82d5e78fe3e85c2d",
            "9c5ce8cd8d3f461a971a7398489dd820",
            "66f65e11ca6342c1b9a61343141650c2",
            "2831b6e197e546dab970d7dcd8c0fe99",
            "f93a1342d45c4a92ade374134f153cbc"
          ]
        },
        "id": "Se2EvUqsPgUi",
        "outputId": "a3209231-5de6-4b9e-932e-655b2ed0262f"
      },
      "source": [
        "# create file directory\n",
        "import shutil\n",
        "from tqdm.notebook import tqdm as tq\n",
        "\n",
        "dataset_path = os.path.join(directory,'dataset')\n",
        "\n",
        "for index, row in tq(df_all.iterrows()):\n",
        "    \n",
        "    file_path = row['path']\n",
        "    if os.path.exists(file_path) == False:\n",
        "            file_path = os.path.join(location_path,row['tag'],row['image'].split('.')[0])            \n",
        "\n",
        "    if os.path.exists(os.path.join(dataset_path,row['set'],row['tag'])) == False:\n",
        "        os.makedirs(os.path.join(dataset_path,row['set'],row['tag']))\n",
        "    \n",
        "    destination_file_name = file_path.split('/')[-1]\n",
        "    file_dest = os.path.join(dataset_path,row['set'],row['tag'],destination_file_name)\n",
        "    \n",
        "    if os.path.exists(file_dest) == False:\n",
        "        shutil.copy2(file_path,file_dest)"
      ],
      "execution_count": null,
      "outputs": [
        {
          "output_type": "display_data",
          "data": {
            "application/vnd.jupyter.widget-view+json": {
              "model_id": "a2932fa0c62145be80f5f7f6dbb0f0a0",
              "version_major": 2,
              "version_minor": 0
            },
            "text/plain": [
              "HBox(children=(FloatProgress(value=1.0, bar_style='info', max=1.0), HTML(value='')))"
            ]
          },
          "metadata": {
            "tags": []
          }
        },
        {
          "output_type": "stream",
          "text": [
            "\n"
          ],
          "name": "stdout"
        }
      ]
    },
    {
      "cell_type": "code",
      "metadata": {
        "id": "Dr4r-6vzO6T-"
      },
      "source": [
        "# augmentation image\n",
        "import tensorflow as tf\n",
        "from tensorflow.keras.preprocessing.image import ImageDataGenerator\n",
        " \n",
        "train_datagen = ImageDataGenerator(\n",
        "                    rescale=1./255,\n",
        "                    rotation_range=20,\n",
        "                    horizontal_flip=True,\n",
        "                    shear_range = 0.2,\n",
        "                    fill_mode = 'nearest')\n",
        " \n",
        "val_datagen = ImageDataGenerator(\n",
        "                    rescale=1./255)"
      ],
      "execution_count": null,
      "outputs": []
    },
    {
      "cell_type": "code",
      "metadata": {
        "id": "oo7R4o37PVGB",
        "colab": {
          "base_uri": "https://localhost:8080/"
        },
        "outputId": "a552d02d-41f8-4d9f-ea0d-c3268ceccef0"
      },
      "source": [
        "# define data flow\n",
        "train_generator = train_datagen.flow_from_directory(\n",
        "        os.path.join(dataset_path,'train'),\n",
        "        target_size=(100, 100),\n",
        "        batch_size=32,\n",
        "        class_mode='categorical',\n",
        "        shuffle = True)\n",
        " \n",
        "validation_generator = val_datagen.flow_from_directory(\n",
        "        os.path.join(dataset_path,'validation'),\n",
        "        target_size=(100, 100),\n",
        "        batch_size=32,\n",
        "        class_mode='categorical',\n",
        "        shuffle = True)"
      ],
      "execution_count": null,
      "outputs": [
        {
          "output_type": "stream",
          "text": [
            "Found 8687 images belonging to 17 classes.\n",
            "Found 2172 images belonging to 17 classes.\n"
          ],
          "name": "stdout"
        }
      ]
    },
    {
      "cell_type": "code",
      "metadata": {
        "id": "u3QsGJvRQX8d"
      },
      "source": [
        "# create CNN model\n",
        "model = tf.keras.models.Sequential([\n",
        "        tf.keras.layers.Conv2D(32, (3,3), activation='relu', input_shape=(100, 100, 3)),\n",
        "        tf.keras.layers.MaxPooling2D(2, 2),\n",
        "        tf.keras.layers.Conv2D(32, (3,3), activation='relu'),\n",
        "        tf.keras.layers.MaxPooling2D(2,2),\n",
        "        tf.keras.layers.Conv2D(64, (3,3), activation='relu'),\n",
        "        tf.keras.layers.MaxPooling2D(2,2),\n",
        "        tf.keras.layers.Conv2D(128, (3,3), activation='relu'),\n",
        "        tf.keras.layers.MaxPooling2D(2,2),\n",
        "        tf.keras.layers.Flatten(),\n",
        "        tf.keras.layers.Dense(256, activation='relu'),\n",
        "        tf.keras.layers.Dense(17, activation=tf.nn.softmax)\n",
        "        ])"
      ],
      "execution_count": null,
      "outputs": []
    },
    {
      "cell_type": "code",
      "metadata": {
        "id": "gSke8-MFQyrI"
      },
      "source": [
        "from tensorflow import keras\n",
        "\n",
        "# Model compile\n",
        "model.compile(loss='categorical_crossentropy',\n",
        "              optimizer=tf.optimizers.Adam(1e-3),\n",
        "              metrics=['accuracy'])\n",
        "\n",
        "# define callbacks\n",
        "early_stopping_cb = keras.callbacks.EarlyStopping(monitor='val_accuracy', patience=2)"
      ],
      "execution_count": null,
      "outputs": []
    },
    {
      "cell_type": "code",
      "metadata": {
        "id": "Clg0Nt4aQ1uU",
        "colab": {
          "base_uri": "https://localhost:8080/"
        },
        "outputId": "6f7f2999-7ed8-426f-fd6d-375405272191"
      },
      "source": [
        "# training model\n",
        "history = model.fit(\n",
        "            train_generator,\n",
        "            steps_per_epoch=len(train_generator),\n",
        "            epochs=10,\n",
        "            validation_data=validation_generator,\n",
        "            validation_steps=len(validation_generator),\n",
        "            verbose=1,\n",
        "            callbacks = [early_stopping_cb]\n",
        "            )"
      ],
      "execution_count": null,
      "outputs": [
        {
          "output_type": "stream",
          "text": [
            "Epoch 1/10\n",
            "272/272 [==============================] - 152s 554ms/step - loss: 0.3793 - accuracy: 0.8723 - val_loss: 0.0234 - val_accuracy: 0.9894\n",
            "Epoch 2/10\n",
            "272/272 [==============================] - 150s 550ms/step - loss: 0.0324 - accuracy: 0.9904 - val_loss: 7.0150e-04 - val_accuracy: 1.0000\n",
            "Epoch 3/10\n",
            "272/272 [==============================] - 149s 548ms/step - loss: 0.0774 - accuracy: 0.9767 - val_loss: 0.0380 - val_accuracy: 0.9871\n",
            "Epoch 4/10\n",
            "272/272 [==============================] - 149s 547ms/step - loss: 0.0088 - accuracy: 0.9975 - val_loss: 2.2538e-04 - val_accuracy: 1.0000\n"
          ],
          "name": "stdout"
        }
      ]
    },
    {
      "cell_type": "code",
      "metadata": {
        "id": "MfVHgp9NQ6r7",
        "colab": {
          "base_uri": "https://localhost:8080/",
          "height": 295
        },
        "outputId": "8579395a-4116-4d71-bcb5-00766870c504"
      },
      "source": [
        "# accuracy visualization\n",
        "import matplotlib.pyplot as plt\n",
        "\n",
        "plt.plot(history.history['accuracy'], label='Training Accuracy')\n",
        "plt.plot(history.history['val_accuracy'], label='Validation Accuracy')\n",
        "plt.title('Training and Validation Accuracy')\n",
        "plt.ylabel('value')\n",
        "plt.xlabel('No. epoch')\n",
        "plt.legend(loc=\"lower left\")\n",
        "plt.show()"
      ],
      "execution_count": null,
      "outputs": [
        {
          "output_type": "display_data",
          "data": {
            "image/png": "[encoded data removed]",
            "text/plain": [
              "<Figure size 432x288 with 1 Axes>"
            ]
          },
          "metadata": {
            "tags": [],
            "needs_background": "light"
          }
        }
      ]
    },
    {
      "cell_type": "code",
      "metadata": {
        "id": "7zhpnfj3Q8Dp",
        "colab": {
          "base_uri": "https://localhost:8080/",
          "height": 295
        },
        "outputId": "a75a8586-0974-4472-d22d-910a826fcdaf"
      },
      "source": [
        "# Loss visualization\n",
        "import matplotlib.pyplot as plt\n",
        "\n",
        "plt.plot(history.history['loss'], label='Training Loss')\n",
        "plt.plot(history.history['val_loss'], label='Validation Loss')\n",
        "plt.title('Training and Validation Loss')\n",
        "plt.ylabel('value')\n",
        "plt.xlabel('No. epoch')\n",
        "plt.legend(loc=\"upper right\")\n",
        "plt.show()"
      ],
      "execution_count": null,
      "outputs": [
        {
          "output_type": "display_data",
          "data": {
            "image/png": "[encoded data removed]",
            "text/plain": [
              "<Figure size 432x288 with 1 Axes>"
            ]
          },
          "metadata": {
            "tags": [],
            "needs_background": "light"
          }
        }
      ]
    },
    {
      "cell_type": "code",
      "metadata": {
        "id": "i_YulqRrSNBE",
        "colab": {
          "base_uri": "https://localhost:8080/"
        },
        "outputId": "b4e9b858-a636-4c24-8e5a-b4d00115a82c"
      },
      "source": [
        "# save file to tflite format\n",
        "converter = tf.lite.TFLiteConverter.from_keras_model(model)\n",
        "tflite_model = converter.convert()\n",
        "with tf.io.gfile.GFile('model.tflite', 'wb') as f:\n",
        "  f.write(tflite_model)"
      ],
      "execution_count": null,
      "outputs": [
        {
          "output_type": "stream",
          "text": [
            "INFO:tensorflow:Assets written to: /tmp/tmpr_hfwmp0/assets\n"
          ],
          "name": "stdout"
        }
      ]
    }
  ]
}