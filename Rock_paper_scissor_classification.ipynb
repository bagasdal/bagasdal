{
  "nbformat": 4,
  "nbformat_minor": 0,
  "metadata": {
    "colab": {
      "name": "Rock paper scissor classification.ipynb",
      "provenance": [],
      "collapsed_sections": [],
      "authorship_tag": "ABX9TyOTi5b+MtNoHAaDhN1sAIMe",
      "include_colab_link": true
    },
    "kernelspec": {
      "name": "python3",
      "display_name": "Python 3"
    },
    "language_info": {
      "name": "python"
    },
    "widgets": {
      "application/vnd.jupyter.widget-state+json": {
        "534c34911f1942098cba02b6376b0951": {
          "model_module": "@jupyter-widgets/controls",
          "model_name": "HBoxModel",
          "model_module_version": "1.5.0",
          "state": {
            "_view_name": "HBoxView",
            "_dom_classes": [],
            "_model_name": "HBoxModel",
            "_view_module": "@jupyter-widgets/controls",
            "_model_module_version": "1.5.0",
            "_view_count": null,
            "_view_module_version": "1.5.0",
            "box_style": "",
            "layout": "IPY_MODEL_67b566bcd8574639963589aa9cdb7ae4",
            "_model_module": "@jupyter-widgets/controls",
            "children": [
              "IPY_MODEL_f2b93da6592b4dc9ba6f79aed98a1031",
              "IPY_MODEL_f8677cad8a004504960fb74fd5913549"
            ]
          }
        },
        "67b566bcd8574639963589aa9cdb7ae4": {
          "model_module": "@jupyter-widgets/base",
          "model_name": "LayoutModel",
          "model_module_version": "1.2.0",
          "state": {
            "_view_name": "LayoutView",
            "grid_template_rows": null,
            "right": null,
            "justify_content": null,
            "_view_module": "@jupyter-widgets/base",
            "overflow": null,
            "_model_module_version": "1.2.0",
            "_view_count": null,
            "flex_flow": null,
            "width": null,
            "min_width": null,
            "border": null,
            "align_items": null,
            "bottom": null,
            "_model_module": "@jupyter-widgets/base",
            "top": null,
            "grid_column": null,
            "overflow_y": null,
            "overflow_x": null,
            "grid_auto_flow": null,
            "grid_area": null,
            "grid_template_columns": null,
            "flex": null,
            "_model_name": "LayoutModel",
            "justify_items": null,
            "grid_row": null,
            "max_height": null,
            "align_content": null,
            "visibility": null,
            "align_self": null,
            "height": null,
            "min_height": null,
            "padding": null,
            "grid_auto_rows": null,
            "grid_gap": null,
            "max_width": null,
            "order": null,
            "_view_module_version": "1.2.0",
            "grid_template_areas": null,
            "object_position": null,
            "object_fit": null,
            "grid_auto_columns": null,
            "margin": null,
            "display": null,
            "left": null
          }
        },
        "f2b93da6592b4dc9ba6f79aed98a1031": {
          "model_module": "@jupyter-widgets/controls",
          "model_name": "FloatProgressModel",
          "model_module_version": "1.5.0",
          "state": {
            "_view_name": "ProgressView",
            "style": "IPY_MODEL_7e1f88cc64f243999c4d6dff3b7fc7ad",
            "_dom_classes": [],
            "description": "",
            "_model_name": "FloatProgressModel",
            "bar_style": "success",
            "max": 1,
            "_view_module": "@jupyter-widgets/controls",
            "_model_module_version": "1.5.0",
            "value": 1,
            "_view_count": null,
            "_view_module_version": "1.5.0",
            "orientation": "horizontal",
            "min": 0,
            "description_tooltip": null,
            "_model_module": "@jupyter-widgets/controls",
            "layout": "IPY_MODEL_caf50c3f064b4bab9abd6d71d9e9fabc"
          }
        },
        "f8677cad8a004504960fb74fd5913549": {
          "model_module": "@jupyter-widgets/controls",
          "model_name": "HTMLModel",
          "model_module_version": "1.5.0",
          "state": {
            "_view_name": "HTMLView",
            "style": "IPY_MODEL_20d3f880bcde4b0d86b236087d0251ae",
            "_dom_classes": [],
            "description": "",
            "_model_name": "HTMLModel",
            "placeholder": "​",
            "_view_module": "@jupyter-widgets/controls",
            "_model_module_version": "1.5.0",
            "value": " 2188/? [00:01&lt;00:00, 2029.87it/s]",
            "_view_count": null,
            "_view_module_version": "1.5.0",
            "description_tooltip": null,
            "_model_module": "@jupyter-widgets/controls",
            "layout": "IPY_MODEL_48b82b052b8646fc8b44f9f32549a4d2"
          }
        },
        "7e1f88cc64f243999c4d6dff3b7fc7ad": {
          "model_module": "@jupyter-widgets/controls",
          "model_name": "ProgressStyleModel",
          "model_module_version": "1.5.0",
          "state": {
            "_view_name": "StyleView",
            "_model_name": "ProgressStyleModel",
            "description_width": "initial",
            "_view_module": "@jupyter-widgets/base",
            "_model_module_version": "1.5.0",
            "_view_count": null,
            "_view_module_version": "1.2.0",
            "bar_color": null,
            "_model_module": "@jupyter-widgets/controls"
          }
        },
        "caf50c3f064b4bab9abd6d71d9e9fabc": {
          "model_module": "@jupyter-widgets/base",
          "model_name": "LayoutModel",
          "model_module_version": "1.2.0",
          "state": {
            "_view_name": "LayoutView",
            "grid_template_rows": null,
            "right": null,
            "justify_content": null,
            "_view_module": "@jupyter-widgets/base",
            "overflow": null,
            "_model_module_version": "1.2.0",
            "_view_count": null,
            "flex_flow": null,
            "width": null,
            "min_width": null,
            "border": null,
            "align_items": null,
            "bottom": null,
            "_model_module": "@jupyter-widgets/base",
            "top": null,
            "grid_column": null,
            "overflow_y": null,
            "overflow_x": null,
            "grid_auto_flow": null,
            "grid_area": null,
            "grid_template_columns": null,
            "flex": null,
            "_model_name": "LayoutModel",
            "justify_items": null,
            "grid_row": null,
            "max_height": null,
            "align_content": null,
            "visibility": null,
            "align_self": null,
            "height": null,
            "min_height": null,
            "padding": null,
            "grid_auto_rows": null,
            "grid_gap": null,
            "max_width": null,
            "order": null,
            "_view_module_version": "1.2.0",
            "grid_template_areas": null,
            "object_position": null,
            "object_fit": null,
            "grid_auto_columns": null,
            "margin": null,
            "display": null,
            "left": null
          }
        },
        "20d3f880bcde4b0d86b236087d0251ae": {
          "model_module": "@jupyter-widgets/controls",
          "model_name": "DescriptionStyleModel",
          "model_module_version": "1.5.0",
          "state": {
            "_view_name": "StyleView",
            "_model_name": "DescriptionStyleModel",
            "description_width": "",
            "_view_module": "@jupyter-widgets/base",
            "_model_module_version": "1.5.0",
            "_view_count": null,
            "_view_module_version": "1.2.0",
            "_model_module": "@jupyter-widgets/controls"
          }
        },
        "48b82b052b8646fc8b44f9f32549a4d2": {
          "model_module": "@jupyter-widgets/base",
          "model_name": "LayoutModel",
          "model_module_version": "1.2.0",
          "state": {
            "_view_name": "LayoutView",
            "grid_template_rows": null,
            "right": null,
            "justify_content": null,
            "_view_module": "@jupyter-widgets/base",
            "overflow": null,
            "_model_module_version": "1.2.0",
            "_view_count": null,
            "flex_flow": null,
            "width": null,
            "min_width": null,
            "border": null,
            "align_items": null,
            "bottom": null,
            "_model_module": "@jupyter-widgets/base",
            "top": null,
            "grid_column": null,
            "overflow_y": null,
            "overflow_x": null,
            "grid_auto_flow": null,
            "grid_area": null,
            "grid_template_columns": null,
            "flex": null,
            "_model_name": "LayoutModel",
            "justify_items": null,
            "grid_row": null,
            "max_height": null,
            "align_content": null,
            "visibility": null,
            "align_self": null,
            "height": null,
            "min_height": null,
            "padding": null,
            "grid_auto_rows": null,
            "grid_gap": null,
            "max_width": null,
            "order": null,
            "_view_module_version": "1.2.0",
            "grid_template_areas": null,
            "object_position": null,
            "object_fit": null,
            "grid_auto_columns": null,
            "margin": null,
            "display": null,
            "left": null
          }
        }
      }
    }
  },
  "cells": [
    {
      "cell_type": "markdown",
      "metadata": {
        "id": "view-in-github",
        "colab_type": "text"
      },
      "source": [
        "<a href=\"https://colab.research.google.com/github/bagasdal/bagasdal/blob/main/Rock_paper_scissor_classification.ipynb\" target=\"_parent\"><img src=\"https://colab.research.google.com/assets/colab-badge.svg\" alt=\"Open In Colab\"/></a>"
      ]
    },
    {
      "cell_type": "markdown",
      "metadata": {
        "id": "cKCEmDT1nxFZ"
      },
      "source": [
        "### Rock paper scissor classification\n",
        "\n",
        "\n",
        "Bagas Daliyanto"
      ]
    },
    {
      "cell_type": "code",
      "metadata": {
        "colab": {
          "base_uri": "https://localhost:8080/"
        },
        "id": "h99taHo6n0g5",
        "outputId": "aa418f4c-dc5f-4a18-b830-b37540d5a772"
      },
      "source": [
        "import tensorflow as tf\n",
        "\n",
        "!wget --no-check-certificate \\\n",
        "  https://dicodingacademy.blob.core.windows.net/picodiploma/ml_pemula_academy/rockpaperscissors.zip \\\n",
        "  -O /tmp/rockpaperscissors.zip"
      ],
      "execution_count": null,
      "outputs": [
        {
          "output_type": "stream",
          "text": [
            "--2021-07-07 13:39:51--  https://dicodingacademy.blob.core.windows.net/picodiploma/ml_pemula_academy/rockpaperscissors.zip\n",
            "Resolving dicodingacademy.blob.core.windows.net (dicodingacademy.blob.core.windows.net)... 52.239.197.36\n",
            "Connecting to dicodingacademy.blob.core.windows.net (dicodingacademy.blob.core.windows.net)|52.239.197.36|:443... connected.\n",
            "HTTP request sent, awaiting response... 200 OK\n",
            "Length: 322873683 (308M) [application/zip]\n",
            "Saving to: ‘/tmp/rockpaperscissors.zip’\n",
            "\n",
            "/tmp/rockpapersciss 100%[===================>] 307.92M  14.8MB/s    in 20s     \n",
            "\n",
            "2021-07-07 13:40:12 (15.3 MB/s) - ‘/tmp/rockpaperscissors.zip’ saved [322873683/322873683]\n",
            "\n"
          ],
          "name": "stdout"
        }
      ]
    },
    {
      "cell_type": "code",
      "metadata": {
        "colab": {
          "base_uri": "https://localhost:8080/"
        },
        "id": "iI0MK7adbXGi",
        "outputId": "c22b5ac9-3953-4eaf-b744-9c41b50113da"
      },
      "source": [
        "# zip file extract\n",
        "import zipfile,os\n",
        "file_location = '/tmp/rockpaperscissors.zip'\n",
        "zip_ref = zipfile.ZipFile(file_location, 'r')\n",
        "zip_ref.extractall('/tmp')\n",
        "zip_ref.close"
      ],
      "execution_count": null,
      "outputs": [
        {
          "output_type": "execute_result",
          "data": {
            "text/plain": [
              "<bound method ZipFile.close of <zipfile.ZipFile filename='/tmp/rockpaperscissors.zip' mode='r'>>"
            ]
          },
          "metadata": {
            "tags": []
          },
          "execution_count": 60
        }
      ]
    },
    {
      "cell_type": "code",
      "metadata": {
        "colab": {
          "base_uri": "https://localhost:8080/"
        },
        "id": "zXOqQ1lslq17",
        "outputId": "9d020f74-1e32-4fcd-ec11-8f8928067b51"
      },
      "source": [
        "# get filename\n",
        "os.listdir('/tmp/rockpaperscissors/rps-cv-images')"
      ],
      "execution_count": null,
      "outputs": [
        {
          "output_type": "execute_result",
          "data": {
            "text/plain": [
              "['paper', 'scissors', 'rock', 'README_rpc-cv-images.txt']"
            ]
          },
          "metadata": {
            "tags": []
          },
          "execution_count": 61
        }
      ]
    },
    {
      "cell_type": "code",
      "metadata": {
        "id": "DvcxvQL-n32i"
      },
      "source": [
        "# remove unused file\n",
        "os.remove('/tmp/rockpaperscissors/rps-cv-images/README_rpc-cv-images.txt')"
      ],
      "execution_count": null,
      "outputs": []
    },
    {
      "cell_type": "code",
      "metadata": {
        "colab": {
          "base_uri": "https://localhost:8080/"
        },
        "id": "0111peAxo4fn",
        "outputId": "90113846-3296-4737-ef9a-400f3ccddaeb"
      },
      "source": [
        "# check file again\n",
        "os.listdir('/tmp/rockpaperscissors/rps-cv-images')"
      ],
      "execution_count": null,
      "outputs": [
        {
          "output_type": "execute_result",
          "data": {
            "text/plain": [
              "['paper', 'scissors', 'rock']"
            ]
          },
          "metadata": {
            "tags": []
          },
          "execution_count": 63
        }
      ]
    },
    {
      "cell_type": "code",
      "metadata": {
        "id": "Dg0I8gIZmTs-"
      },
      "source": [
        "# access file location\n",
        "location_path = '/tmp/rockpaperscissors/rps-cv-images'\n",
        "\n",
        "# populate data from file \n",
        "file_name = []\n",
        "tag = []\n",
        "full_path = []\n",
        "for path, subdirs, files in os.walk(location_path):\n",
        "    for name in files:\n",
        "        full_path.append(os.path.join(path, name))\n",
        "        tag.append(path.split('/')[-1])            \n",
        "        file_name.append(name)"
      ],
      "execution_count": null,
      "outputs": []
    },
    {
      "cell_type": "code",
      "metadata": {
        "colab": {
          "base_uri": "https://localhost:8080/"
        },
        "id": "V1lSVrfaut-9",
        "outputId": "29578082-69dc-4472-a8ef-919475947862"
      },
      "source": [
        "import pandas as pd\n",
        "\n",
        "# create data frame\n",
        "df = pd.DataFrame({'path': full_path, 'file_name': file_name, 'tag': tag})\n",
        "\n",
        "# check file size\n",
        "df.groupby(['tag']).size()"
      ],
      "execution_count": null,
      "outputs": [
        {
          "output_type": "execute_result",
          "data": {
            "text/plain": [
              "tag\n",
              "paper       712\n",
              "rock        726\n",
              "scissors    750\n",
              "dtype: int64"
            ]
          },
          "metadata": {
            "tags": []
          },
          "execution_count": 65
        }
      ]
    },
    {
      "cell_type": "code",
      "metadata": {
        "colab": {
          "base_uri": "https://localhost:8080/",
          "height": 203
        },
        "id": "RG9t0lGRvWRL",
        "outputId": "80818072-6424-434b-dd7e-c7a4f5352775"
      },
      "source": [
        "# check head file\n",
        "df.head()"
      ],
      "execution_count": null,
      "outputs": [
        {
          "output_type": "execute_result",
          "data": {
            "text/html": [
              "<div>\n",
              "<style scoped>\n",
              "    .dataframe tbody tr th:only-of-type {\n",
              "        vertical-align: middle;\n",
              "    }\n",
              "\n",
              "    .dataframe tbody tr th {\n",
              "        vertical-align: top;\n",
              "    }\n",
              "\n",
              "    .dataframe thead th {\n",
              "        text-align: right;\n",
              "    }\n",
              "</style>\n",
              "<table border=\"1\" class=\"dataframe\">\n",
              "  <thead>\n",
              "    <tr style=\"text-align: right;\">\n",
              "      <th></th>\n",
              "      <th>path</th>\n",
              "      <th>file_name</th>\n",
              "      <th>tag</th>\n",
              "    </tr>\n",
              "  </thead>\n",
              "  <tbody>\n",
              "    <tr>\n",
              "      <th>0</th>\n",
              "      <td>/tmp/rockpaperscissors/rps-cv-images/paper/JFO...</td>\n",
              "      <td>JFOcfFSm3Ul0Xkha.png</td>\n",
              "      <td>paper</td>\n",
              "    </tr>\n",
              "    <tr>\n",
              "      <th>1</th>\n",
              "      <td>/tmp/rockpaperscissors/rps-cv-images/paper/oWI...</td>\n",
              "      <td>oWI7JL85eXDhRFcV.png</td>\n",
              "      <td>paper</td>\n",
              "    </tr>\n",
              "    <tr>\n",
              "      <th>2</th>\n",
              "      <td>/tmp/rockpaperscissors/rps-cv-images/paper/prC...</td>\n",
              "      <td>prCirglnpqZ4KRmM.png</td>\n",
              "      <td>paper</td>\n",
              "    </tr>\n",
              "    <tr>\n",
              "      <th>3</th>\n",
              "      <td>/tmp/rockpaperscissors/rps-cv-images/paper/CnR...</td>\n",
              "      <td>CnRjJejRPD3QmYTl.png</td>\n",
              "      <td>paper</td>\n",
              "    </tr>\n",
              "    <tr>\n",
              "      <th>4</th>\n",
              "      <td>/tmp/rockpaperscissors/rps-cv-images/paper/Pwk...</td>\n",
              "      <td>PwkqvoT0noMITNaF.png</td>\n",
              "      <td>paper</td>\n",
              "    </tr>\n",
              "  </tbody>\n",
              "</table>\n",
              "</div>"
            ],
            "text/plain": [
              "                                                path  ...    tag\n",
              "0  /tmp/rockpaperscissors/rps-cv-images/paper/JFO...  ...  paper\n",
              "1  /tmp/rockpaperscissors/rps-cv-images/paper/oWI...  ...  paper\n",
              "2  /tmp/rockpaperscissors/rps-cv-images/paper/prC...  ...  paper\n",
              "3  /tmp/rockpaperscissors/rps-cv-images/paper/CnR...  ...  paper\n",
              "4  /tmp/rockpaperscissors/rps-cv-images/paper/Pwk...  ...  paper\n",
              "\n",
              "[5 rows x 3 columns]"
            ]
          },
          "metadata": {
            "tags": []
          },
          "execution_count": 66
        }
      ]
    },
    {
      "cell_type": "code",
      "metadata": {
        "id": "zdRXE5DFvckH",
        "colab": {
          "base_uri": "https://localhost:8080/"
        },
        "outputId": "5f575496-67d9-463f-fa26-a5cfb25d0c45"
      },
      "source": [
        "from sklearn.model_selection import train_test_split\n",
        "\n",
        "\n",
        "# labelling data\n",
        "X= df['path']\n",
        "y= df['tag']\n",
        "\n",
        "# split dataset with 0.4 validation test size\n",
        "X_train, X_val, y_train, y_val = train_test_split(\n",
        "    X, y, test_size=0.4, random_state=1)"
      ],
      "execution_count": null,
      "outputs": [
        {
          "output_type": "error",
          "ename": "NameError",
          "evalue": "ignored",
          "traceback": [
            "\u001b[0;31m---------------------------------------------------------------------------\u001b[0m",
            "\u001b[0;31mNameError\u001b[0m                                 Traceback (most recent call last)",
            "\u001b[0;32m<ipython-input-1-a3c47bd18790>\u001b[0m in \u001b[0;36m<module>\u001b[0;34m()\u001b[0m\n\u001b[1;32m      3\u001b[0m \u001b[0;34m\u001b[0m\u001b[0m\n\u001b[1;32m      4\u001b[0m \u001b[0;31m# Pemisahan data dengan label, karena file menggunakan foto, maka digunaka\u001b[0m\u001b[0;34m\u001b[0m\u001b[0;34m\u001b[0m\u001b[0;34m\u001b[0m\u001b[0m\n\u001b[0;32m----> 5\u001b[0;31m \u001b[0mX\u001b[0m\u001b[0;34m=\u001b[0m \u001b[0mdf\u001b[0m\u001b[0;34m[\u001b[0m\u001b[0;34m'path'\u001b[0m\u001b[0;34m]\u001b[0m\u001b[0;34m\u001b[0m\u001b[0;34m\u001b[0m\u001b[0m\n\u001b[0m\u001b[1;32m      6\u001b[0m \u001b[0my\u001b[0m\u001b[0;34m=\u001b[0m \u001b[0mdf\u001b[0m\u001b[0;34m[\u001b[0m\u001b[0;34m'tag'\u001b[0m\u001b[0;34m]\u001b[0m\u001b[0;34m\u001b[0m\u001b[0;34m\u001b[0m\u001b[0m\n\u001b[1;32m      7\u001b[0m \u001b[0;34m\u001b[0m\u001b[0m\n",
            "\u001b[0;31mNameError\u001b[0m: name 'df' is not defined"
          ]
        }
      ]
    },
    {
      "cell_type": "code",
      "metadata": {
        "colab": {
          "base_uri": "https://localhost:8080/",
          "height": 394
        },
        "id": "6B2npxhXB3y6",
        "outputId": "ddd81bd8-9366-4ad9-82fa-8ce512a842b3"
      },
      "source": [
        "# create data frame\n",
        "df_train = pd.DataFrame({'path': X_train, 'tag': y_train, 'set': 'train'})\n",
        "df_val = pd.DataFrame({'path': X_val, 'tag': y_val, 'set': 'validation'})\n",
        "\n",
        "# check dataframe size\n",
        "print('train size', len(df_train))\n",
        "print('val size', len(df_val))\n",
        "\n",
        "# combine data frame\n",
        "df_all = df_train.append([df_val]).reset_index(drop=1)\n",
        "print('\\n')\n",
        "print(df_all.groupby(['set','tag']).size(),'\\n')\n",
        "print('\\n')\n",
        "\n",
        "df_all.sample(3)"
      ],
      "execution_count": null,
      "outputs": [
        {
          "output_type": "stream",
          "text": [
            "train size 1312\n",
            "val size 876\n",
            "\n",
            "\n",
            "set         tag     \n",
            "train       paper       423\n",
            "            rock        434\n",
            "            scissors    455\n",
            "validation  paper       289\n",
            "            rock        292\n",
            "            scissors    295\n",
            "dtype: int64 \n",
            "\n",
            "\n",
            "\n"
          ],
          "name": "stdout"
        },
        {
          "output_type": "execute_result",
          "data": {
            "text/html": [
              "<div>\n",
              "<style scoped>\n",
              "    .dataframe tbody tr th:only-of-type {\n",
              "        vertical-align: middle;\n",
              "    }\n",
              "\n",
              "    .dataframe tbody tr th {\n",
              "        vertical-align: top;\n",
              "    }\n",
              "\n",
              "    .dataframe thead th {\n",
              "        text-align: right;\n",
              "    }\n",
              "</style>\n",
              "<table border=\"1\" class=\"dataframe\">\n",
              "  <thead>\n",
              "    <tr style=\"text-align: right;\">\n",
              "      <th></th>\n",
              "      <th>path</th>\n",
              "      <th>tag</th>\n",
              "      <th>set</th>\n",
              "    </tr>\n",
              "  </thead>\n",
              "  <tbody>\n",
              "    <tr>\n",
              "      <th>203</th>\n",
              "      <td>/tmp/rockpaperscissors/rps-cv-images/scissors/...</td>\n",
              "      <td>scissors</td>\n",
              "      <td>train</td>\n",
              "    </tr>\n",
              "    <tr>\n",
              "      <th>2037</th>\n",
              "      <td>/tmp/rockpaperscissors/rps-cv-images/scissors/...</td>\n",
              "      <td>scissors</td>\n",
              "      <td>validation</td>\n",
              "    </tr>\n",
              "    <tr>\n",
              "      <th>1085</th>\n",
              "      <td>/tmp/rockpaperscissors/rps-cv-images/scissors/...</td>\n",
              "      <td>scissors</td>\n",
              "      <td>train</td>\n",
              "    </tr>\n",
              "  </tbody>\n",
              "</table>\n",
              "</div>"
            ],
            "text/plain": [
              "                                                   path       tag         set\n",
              "203   /tmp/rockpaperscissors/rps-cv-images/scissors/...  scissors       train\n",
              "2037  /tmp/rockpaperscissors/rps-cv-images/scissors/...  scissors  validation\n",
              "1085  /tmp/rockpaperscissors/rps-cv-images/scissors/...  scissors       train"
            ]
          },
          "metadata": {
            "tags": []
          },
          "execution_count": 68
        }
      ]
    },
    {
      "cell_type": "code",
      "metadata": {
        "colab": {
          "base_uri": "https://localhost:8080/",
          "height": 66,
          "referenced_widgets": [
            "534c34911f1942098cba02b6376b0951",
            "67b566bcd8574639963589aa9cdb7ae4",
            "f2b93da6592b4dc9ba6f79aed98a1031",
            "f8677cad8a004504960fb74fd5913549",
            "7e1f88cc64f243999c4d6dff3b7fc7ad",
            "caf50c3f064b4bab9abd6d71d9e9fabc",
            "20d3f880bcde4b0d86b236087d0251ae",
            "48b82b052b8646fc8b44f9f32549a4d2"
          ]
        },
        "id": "jgbmfCVLGD5x",
        "outputId": "dbec4db3-e1af-45fa-b105-26fa50a01c1e"
      },
      "source": [
        "# create file directory, take file path and copy file to destination path\n",
        "import shutil\n",
        "from tqdm.notebook import tqdm as tq\n",
        "\n",
        "dataset_path = '/tmp/rockpaperscissors/dataset'\n",
        "\n",
        "for index, row in tq(df_all.iterrows()):\n",
        "    \n",
        "    file_path = row['path']\n",
        "    if os.path.exists(file_path) == False:\n",
        "            file_path = os.path.join(location_path,row['tag'],row['image'].split('.')[0])            \n",
        "    \n",
        "    if os.path.exists(os.path.join(dataset_path,row['set'],row['tag'])) == False:\n",
        "        os.makedirs(os.path.join(dataset_path,row['set'],row['tag']))\n",
        "    \n",
        "    destination_file_name = file_path.split('/')[-1]\n",
        "    file_dest = os.path.join(dataset_path,row['set'],row['tag'],destination_file_name)\n",
        "    \n",
        "    if os.path.exists(file_dest) == False:\n",
        "        shutil.copy2(file_path,file_dest)"
      ],
      "execution_count": null,
      "outputs": [
        {
          "output_type": "display_data",
          "data": {
            "application/vnd.jupyter.widget-view+json": {
              "model_id": "534c34911f1942098cba02b6376b0951",
              "version_minor": 0,
              "version_major": 2
            },
            "text/plain": [
              "HBox(children=(FloatProgress(value=1.0, bar_style='info', max=1.0), HTML(value='')))"
            ]
          },
          "metadata": {
            "tags": []
          }
        },
        {
          "output_type": "stream",
          "text": [
            "\n"
          ],
          "name": "stdout"
        }
      ]
    },
    {
      "cell_type": "code",
      "metadata": {
        "id": "bKq26QgNEWMQ"
      },
      "source": [
        "# image augmentation\n",
        "from tensorflow.keras.preprocessing.image import ImageDataGenerator\n",
        " \n",
        "train_datagen = ImageDataGenerator(\n",
        "                    rescale=1./255,\n",
        "                    rotation_range=20,\n",
        "                    horizontal_flip=True,\n",
        "                    shear_range = 0.2,\n",
        "                    fill_mode = 'nearest')\n",
        " \n",
        "val_datagen = ImageDataGenerator(\n",
        "                    rescale=1./255,\n",
        "                    rotation_range=20,\n",
        "                    horizontal_flip=True,\n",
        "                    shear_range = 0.2,\n",
        "                    fill_mode = 'nearest')"
      ],
      "execution_count": null,
      "outputs": []
    },
    {
      "cell_type": "code",
      "metadata": {
        "colab": {
          "base_uri": "https://localhost:8080/"
        },
        "id": "tFajbnNyZfQG",
        "outputId": "341ba6e4-f755-4749-8a03-71da11ab1511"
      },
      "source": [
        "# define Data flow\n",
        "train_generator = train_datagen.flow_from_directory(\n",
        "        '/tmp/rockpaperscissors/dataset/train',\n",
        "        target_size=(100, 150),\n",
        "        batch_size=20,\n",
        "        class_mode='categorical',\n",
        "        shuffle = True)\n",
        " \n",
        "validation_generator = val_datagen.flow_from_directory(\n",
        "        '/tmp/rockpaperscissors/dataset/validation',\n",
        "        target_size=(100, 150),\n",
        "        batch_size=20,\n",
        "        class_mode='categorical',\n",
        "        shuffle = True)"
      ],
      "execution_count": null,
      "outputs": [
        {
          "output_type": "stream",
          "text": [
            "Found 1312 images belonging to 3 classes.\n",
            "Found 876 images belonging to 3 classes.\n"
          ],
          "name": "stdout"
        }
      ]
    },
    {
      "cell_type": "code",
      "metadata": {
        "id": "bC0xnPjXeaw8"
      },
      "source": [
        "# create CNN model\n",
        "model = tf.keras.models.Sequential([\n",
        "        tf.keras.layers.Conv2D(32, (3,3), activation='relu', input_shape=(100, 150, 3)),\n",
        "        tf.keras.layers.MaxPooling2D(2, 2),\n",
        "        tf.keras.layers.Conv2D(32, (3,3), activation='relu'),\n",
        "        tf.keras.layers.MaxPooling2D(2,2),\n",
        "        tf.keras.layers.Conv2D(64, (3,3), activation='relu'),\n",
        "        tf.keras.layers.MaxPooling2D(2,2),\n",
        "        tf.keras.layers.Conv2D(128, (3,3), activation='relu'),\n",
        "        tf.keras.layers.MaxPooling2D(2,2),\n",
        "        tf.keras.layers.Flatten(),\n",
        "        tf.keras.layers.Dense(256, activation='relu'),\n",
        "        tf.keras.layers.Dense(3, activation=tf.nn.softmax)\n",
        "        ])"
      ],
      "execution_count": null,
      "outputs": []
    },
    {
      "cell_type": "code",
      "metadata": {
        "id": "7UzSkmTHg73n"
      },
      "source": [
        "# Model compile\n",
        "model.compile(loss='categorical_crossentropy',\n",
        "              optimizer=optimizers.Adam(1e-3),\n",
        "              metrics=['accuracy'])\n",
        "\n",
        "# define callbacks\n",
        "early_stopping_cb = keras.callbacks.EarlyStopping(monitor='val_accuracy', patience=2)"
      ],
      "execution_count": null,
      "outputs": []
    },
    {
      "cell_type": "code",
      "metadata": {
        "colab": {
          "base_uri": "https://localhost:8080/"
        },
        "id": "jt3_XLbBhSyz",
        "outputId": "497d59f2-46b9-4ec9-84ba-82f42996dd55"
      },
      "source": [
        "# train model\n",
        "history = model.fit(\n",
        "            train_generator,\n",
        "            steps_per_epoch=len(train_generator),\n",
        "            epochs=10,\n",
        "            validation_data=validation_generator,\n",
        "            validation_steps=len(validation_generator),\n",
        "            verbose=1,\n",
        "            callbacks = [early_stopping_cb]\n",
        "            )"
      ],
      "execution_count": null,
      "outputs": [
        {
          "output_type": "stream",
          "text": [
            "Epoch 1/10\n",
            "66/66 [==============================] - 41s 612ms/step - loss: 0.2102 - accuracy: 0.9337 - val_loss: 0.1954 - val_accuracy: 0.9338\n",
            "Epoch 2/10\n",
            "66/66 [==============================] - 40s 609ms/step - loss: 0.1666 - accuracy: 0.9474 - val_loss: 0.1110 - val_accuracy: 0.9612\n",
            "Epoch 3/10\n",
            "66/66 [==============================] - 40s 610ms/step - loss: 0.1538 - accuracy: 0.9535 - val_loss: 0.0813 - val_accuracy: 0.9703\n",
            "Epoch 4/10\n",
            "66/66 [==============================] - 40s 609ms/step - loss: 0.1360 - accuracy: 0.9489 - val_loss: 0.1154 - val_accuracy: 0.9600\n",
            "Epoch 5/10\n",
            "66/66 [==============================] - 40s 609ms/step - loss: 0.1058 - accuracy: 0.9665 - val_loss: 0.0603 - val_accuracy: 0.9783\n",
            "Epoch 6/10\n",
            "66/66 [==============================] - 40s 611ms/step - loss: 0.0787 - accuracy: 0.9748 - val_loss: 0.0547 - val_accuracy: 0.9772\n",
            "Epoch 7/10\n",
            "66/66 [==============================] - 40s 612ms/step - loss: 0.0785 - accuracy: 0.9703 - val_loss: 0.1031 - val_accuracy: 0.9635\n"
          ],
          "name": "stdout"
        }
      ]
    },
    {
      "cell_type": "code",
      "metadata": {
        "colab": {
          "base_uri": "https://localhost:8080/",
          "height": 295
        },
        "id": "qAJX7Fmr6hqz",
        "outputId": "98fb9b41-ff54-4865-ffa5-8d89c783700d"
      },
      "source": [
        "# accuracy visualization\n",
        "import matplotlib.pyplot as plt\n",
        "\n",
        "plt.plot(history.history['accuracy'], label='Training Accuracy')\n",
        "plt.plot(history.history['val_accuracy'], label='Validation Accuracy')\n",
        "plt.title('Training and Validation Accuracy')\n",
        "plt.ylabel('value')\n",
        "plt.xlabel('No. epoch')\n",
        "plt.legend(loc=\"lower left\")\n",
        "plt.show()"
      ],
      "execution_count": null,
      "outputs": [
        {
          "output_type": "display_data",
          "data": {
            "image/png": "[encoded data removed]",
            "text/plain": [
              "<Figure size 432x288 with 1 Axes>"
            ]
          },
          "metadata": {
            "tags": [],
            "needs_background": "light"
          }
        }
      ]
    },
    {
      "cell_type": "code",
      "metadata": {
        "id": "Oukz-eG94Bnd",
        "colab": {
          "base_uri": "https://localhost:8080/",
          "height": 285
        },
        "outputId": "7460ea17-fb4e-4903-c2b3-956f478c9c24"
      },
      "source": [
        "# predicting image\n",
        "import numpy as np\n",
        "from keras.preprocessing import image\n",
        "import matplotlib.image as mpimg\n",
        "%matplotlib inline\n",
        " \n",
        "fn = 'Contoh_Rock_1.jpg'\n",
        " \n",
        "path = fn\n",
        "img = image.load_img(path, target_size=(100,150))\n",
        "imgplot = plt.imshow(img)\n",
        "x = image.img_to_array(img)\n",
        "x = np.expand_dims(x, axis=0)\n",
        " \n",
        "images = np.vstack([x])\n",
        "\n",
        "im_array = np.asarray(images)\n",
        "im_array = im_array*(1/225)\n",
        "im_input = tf.reshape(im_array, shape = [1, 100, 150, 3])\n",
        "\n",
        "predict_class = np.argmax(model.predict(im_input))\n",
        "  \n",
        "if predict_class == 0:\n",
        "  predict_label = 'Paper'\n",
        "elif predict_class == 1:\n",
        "  predict_label = 'Rock'\n",
        "else:\n",
        "  predict_label = 'Scissor'\n",
        "\n",
        "print('Hasil Prediksi: ', predict_label)"
      ],
      "execution_count": null,
      "outputs": [
        {
          "output_type": "stream",
          "text": [
            "Hasil Prediksi:  Paper\n"
          ],
          "name": "stdout"
        },
        {
          "output_type": "display_data",
          "data": {
            "image/png": "[encoded data removed]",
            "text/plain": [
              "<Figure size 432x288 with 1 Axes>"
            ]
          },
          "metadata": {
            "tags": [],
            "needs_background": "light"
          }
        }
      ]
    },
    {
      "cell_type": "code",
      "metadata": {
        "id": "tBHsqJZmwtGf"
      },
      "source": [
        "import tensorflow as tf\n",
        "import numpy as np\n",
        "from tensorflow import keras\n",
        "\n",
        "xs = np.array([1.0,  2.0, 3.0, 4.0, 5.0, 6.0], dtype=float)\n",
        "ys = np.array([4.0, 6.0, 8.0, 10.0, 12.0, 14.0], dtype=float)"
      ],
      "execution_count": null,
      "outputs": []
    },
    {
      "cell_type": "code",
      "metadata": {
        "colab": {
          "base_uri": "https://localhost:8080/"
        },
        "id": "DSSer8BjuAKH",
        "outputId": "f144c980-8d39-4226-abeb-45c5427cf6fc"
      },
      "source": [
        "# model = tf.keras.Sequential([keras.layers.Dense(units=1, input_shape=[1])])\n",
        "model = tf.keras.Sequential([\n",
        "                             keras.layers.Dense(units=1, input_shape=[1]),\n",
        "                             keras.layers.Dense(units=8),\n",
        "                             keras.layers.Dense(units=1)])\n",
        "\n",
        "model.compile(optimizer='sgd', loss='mean_squared_error')\n",
        "model.fit(xs, ys, epochs=150)"
      ],
      "execution_count": null,
      "outputs": [
        {
          "output_type": "stream",
          "text": [
            "Epoch 1/150\n",
            "1/1 [==============================] - 0s 218ms/step - loss: 119.1852\n",
            "Epoch 2/150\n",
            "1/1 [==============================] - 0s 8ms/step - loss: 55.3566\n",
            "Epoch 3/150\n",
            "1/1 [==============================] - 0s 9ms/step - loss: 25.8134\n",
            "Epoch 4/150\n",
            "1/1 [==============================] - 0s 6ms/step - loss: 12.1385\n",
            "Epoch 5/150\n",
            "1/1 [==============================] - 0s 6ms/step - loss: 5.8080\n",
            "Epoch 6/150\n",
            "1/1 [==============================] - 0s 5ms/step - loss: 2.8767\n",
            "Epoch 7/150\n",
            "1/1 [==============================] - 0s 4ms/step - loss: 1.5186\n",
            "Epoch 8/150\n",
            "1/1 [==============================] - 0s 8ms/step - loss: 0.8886\n",
            "Epoch 9/150\n",
            "1/1 [==============================] - 0s 9ms/step - loss: 0.5957\n",
            "Epoch 10/150\n",
            "1/1 [==============================] - 0s 5ms/step - loss: 0.4588\n",
            "Epoch 11/150\n",
            "1/1 [==============================] - 0s 5ms/step - loss: 0.3941\n",
            "Epoch 12/150\n",
            "1/1 [==============================] - 0s 5ms/step - loss: 0.3629\n",
            "Epoch 13/150\n",
            "1/1 [==============================] - 0s 4ms/step - loss: 0.3471\n",
            "Epoch 14/150\n",
            "1/1 [==============================] - 0s 12ms/step - loss: 0.3385\n",
            "Epoch 15/150\n",
            "1/1 [==============================] - 0s 9ms/step - loss: 0.3332\n",
            "Epoch 16/150\n",
            "1/1 [==============================] - 0s 6ms/step - loss: 0.3295\n",
            "Epoch 17/150\n",
            "1/1 [==============================] - 0s 5ms/step - loss: 0.3265\n",
            "Epoch 18/150\n",
            "1/1 [==============================] - 0s 4ms/step - loss: 0.3238\n",
            "Epoch 19/150\n",
            "1/1 [==============================] - 0s 4ms/step - loss: 0.3213\n",
            "Epoch 20/150\n",
            "1/1 [==============================] - 0s 7ms/step - loss: 0.3189\n",
            "Epoch 21/150\n",
            "1/1 [==============================] - 0s 5ms/step - loss: 0.3166\n",
            "Epoch 22/150\n",
            "1/1 [==============================] - 0s 4ms/step - loss: 0.3142\n",
            "Epoch 23/150\n",
            "1/1 [==============================] - 0s 3ms/step - loss: 0.3119\n",
            "Epoch 24/150\n",
            "1/1 [==============================] - 0s 4ms/step - loss: 0.3097\n",
            "Epoch 25/150\n",
            "1/1 [==============================] - 0s 5ms/step - loss: 0.3074\n",
            "Epoch 26/150\n",
            "1/1 [==============================] - 0s 5ms/step - loss: 0.3052\n",
            "Epoch 27/150\n",
            "1/1 [==============================] - 0s 3ms/step - loss: 0.3029\n",
            "Epoch 28/150\n",
            "1/1 [==============================] - 0s 6ms/step - loss: 0.3007\n",
            "Epoch 29/150\n",
            "1/1 [==============================] - 0s 4ms/step - loss: 0.2985\n",
            "Epoch 30/150\n",
            "1/1 [==============================] - 0s 4ms/step - loss: 0.2964\n",
            "Epoch 31/150\n",
            "1/1 [==============================] - 0s 4ms/step - loss: 0.2942\n",
            "Epoch 32/150\n",
            "1/1 [==============================] - 0s 4ms/step - loss: 0.2921\n",
            "Epoch 33/150\n",
            "1/1 [==============================] - 0s 4ms/step - loss: 0.2899\n",
            "Epoch 34/150\n",
            "1/1 [==============================] - 0s 5ms/step - loss: 0.2878\n",
            "Epoch 35/150\n",
            "1/1 [==============================] - 0s 4ms/step - loss: 0.2857\n",
            "Epoch 36/150\n",
            "1/1 [==============================] - 0s 5ms/step - loss: 0.2837\n",
            "Epoch 37/150\n",
            "1/1 [==============================] - 0s 6ms/step - loss: 0.2816\n",
            "Epoch 38/150\n",
            "1/1 [==============================] - 0s 4ms/step - loss: 0.2795\n",
            "Epoch 39/150\n",
            "1/1 [==============================] - 0s 5ms/step - loss: 0.2775\n",
            "Epoch 40/150\n",
            "1/1 [==============================] - 0s 5ms/step - loss: 0.2755\n",
            "Epoch 41/150\n",
            "1/1 [==============================] - 0s 3ms/step - loss: 0.2735\n",
            "Epoch 42/150\n",
            "1/1 [==============================] - 0s 5ms/step - loss: 0.2715\n",
            "Epoch 43/150\n",
            "1/1 [==============================] - 0s 5ms/step - loss: 0.2695\n",
            "Epoch 44/150\n",
            "1/1 [==============================] - 0s 7ms/step - loss: 0.2675\n",
            "Epoch 45/150\n",
            "1/1 [==============================] - 0s 5ms/step - loss: 0.2656\n",
            "Epoch 46/150\n",
            "1/1 [==============================] - 0s 5ms/step - loss: 0.2636\n",
            "Epoch 47/150\n",
            "1/1 [==============================] - 0s 4ms/step - loss: 0.2617\n",
            "Epoch 48/150\n",
            "1/1 [==============================] - 0s 5ms/step - loss: 0.2598\n",
            "Epoch 49/150\n",
            "1/1 [==============================] - 0s 15ms/step - loss: 0.2579\n",
            "Epoch 50/150\n",
            "1/1 [==============================] - 0s 17ms/step - loss: 0.2560\n",
            "Epoch 51/150\n",
            "1/1 [==============================] - 0s 7ms/step - loss: 0.2542\n",
            "Epoch 52/150\n",
            "1/1 [==============================] - 0s 6ms/step - loss: 0.2523\n",
            "Epoch 53/150\n",
            "1/1 [==============================] - 0s 12ms/step - loss: 0.2505\n",
            "Epoch 54/150\n",
            "1/1 [==============================] - 0s 5ms/step - loss: 0.2487\n",
            "Epoch 55/150\n",
            "1/1 [==============================] - 0s 6ms/step - loss: 0.2469\n",
            "Epoch 56/150\n",
            "1/1 [==============================] - 0s 4ms/step - loss: 0.2451\n",
            "Epoch 57/150\n",
            "1/1 [==============================] - 0s 4ms/step - loss: 0.2433\n",
            "Epoch 58/150\n",
            "1/1 [==============================] - 0s 4ms/step - loss: 0.2415\n",
            "Epoch 59/150\n",
            "1/1 [==============================] - 0s 4ms/step - loss: 0.2397\n",
            "Epoch 60/150\n",
            "1/1 [==============================] - 0s 4ms/step - loss: 0.2380\n",
            "Epoch 61/150\n",
            "1/1 [==============================] - 0s 4ms/step - loss: 0.2363\n",
            "Epoch 62/150\n",
            "1/1 [==============================] - 0s 5ms/step - loss: 0.2345\n",
            "Epoch 63/150\n",
            "1/1 [==============================] - 0s 5ms/step - loss: 0.2328\n",
            "Epoch 64/150\n",
            "1/1 [==============================] - 0s 4ms/step - loss: 0.2311\n",
            "Epoch 65/150\n",
            "1/1 [==============================] - 0s 5ms/step - loss: 0.2295\n",
            "Epoch 66/150\n",
            "1/1 [==============================] - 0s 4ms/step - loss: 0.2278\n",
            "Epoch 67/150\n",
            "1/1 [==============================] - 0s 4ms/step - loss: 0.2261\n",
            "Epoch 68/150\n",
            "1/1 [==============================] - 0s 5ms/step - loss: 0.2245\n",
            "Epoch 69/150\n",
            "1/1 [==============================] - 0s 8ms/step - loss: 0.2228\n",
            "Epoch 70/150\n",
            "1/1 [==============================] - 0s 5ms/step - loss: 0.2212\n",
            "Epoch 71/150\n",
            "1/1 [==============================] - 0s 4ms/step - loss: 0.2196\n",
            "Epoch 72/150\n",
            "1/1 [==============================] - 0s 5ms/step - loss: 0.2180\n",
            "Epoch 73/150\n",
            "1/1 [==============================] - 0s 3ms/step - loss: 0.2164\n",
            "Epoch 74/150\n",
            "1/1 [==============================] - 0s 5ms/step - loss: 0.2148\n",
            "Epoch 75/150\n",
            "1/1 [==============================] - 0s 4ms/step - loss: 0.2133\n",
            "Epoch 76/150\n",
            "1/1 [==============================] - 0s 4ms/step - loss: 0.2117\n",
            "Epoch 77/150\n",
            "1/1 [==============================] - 0s 5ms/step - loss: 0.2102\n",
            "Epoch 78/150\n",
            "1/1 [==============================] - 0s 8ms/step - loss: 0.2086\n",
            "Epoch 79/150\n",
            "1/1 [==============================] - 0s 11ms/step - loss: 0.2071\n",
            "Epoch 80/150\n",
            "1/1 [==============================] - 0s 7ms/step - loss: 0.2056\n",
            "Epoch 81/150\n",
            "1/1 [==============================] - 0s 7ms/step - loss: 0.2041\n",
            "Epoch 82/150\n",
            "1/1 [==============================] - 0s 8ms/step - loss: 0.2026\n",
            "Epoch 83/150\n",
            "1/1 [==============================] - 0s 4ms/step - loss: 0.2012\n",
            "Epoch 84/150\n",
            "1/1 [==============================] - 0s 6ms/step - loss: 0.1997\n",
            "Epoch 85/150\n",
            "1/1 [==============================] - 0s 6ms/step - loss: 0.1982\n",
            "Epoch 86/150\n",
            "1/1 [==============================] - 0s 5ms/step - loss: 0.1968\n",
            "Epoch 87/150\n",
            "1/1 [==============================] - 0s 5ms/step - loss: 0.1954\n",
            "Epoch 88/150\n",
            "1/1 [==============================] - 0s 9ms/step - loss: 0.1939\n",
            "Epoch 89/150\n",
            "1/1 [==============================] - 0s 7ms/step - loss: 0.1925\n",
            "Epoch 90/150\n",
            "1/1 [==============================] - 0s 6ms/step - loss: 0.1911\n",
            "Epoch 91/150\n",
            "1/1 [==============================] - 0s 7ms/step - loss: 0.1897\n",
            "Epoch 92/150\n",
            "1/1 [==============================] - 0s 5ms/step - loss: 0.1883\n",
            "Epoch 93/150\n",
            "1/1 [==============================] - 0s 6ms/step - loss: 0.1870\n",
            "Epoch 94/150\n",
            "1/1 [==============================] - 0s 5ms/step - loss: 0.1856\n",
            "Epoch 95/150\n",
            "1/1 [==============================] - 0s 6ms/step - loss: 0.1843\n",
            "Epoch 96/150\n",
            "1/1 [==============================] - 0s 7ms/step - loss: 0.1829\n",
            "Epoch 97/150\n",
            "1/1 [==============================] - 0s 14ms/step - loss: 0.1816\n",
            "Epoch 98/150\n",
            "1/1 [==============================] - 0s 9ms/step - loss: 0.1803\n",
            "Epoch 99/150\n",
            "1/1 [==============================] - 0s 6ms/step - loss: 0.1789\n",
            "Epoch 100/150\n",
            "1/1 [==============================] - 0s 6ms/step - loss: 0.1776\n",
            "Epoch 101/150\n",
            "1/1 [==============================] - 0s 8ms/step - loss: 0.1763\n",
            "Epoch 102/150\n",
            "1/1 [==============================] - 0s 5ms/step - loss: 0.1751\n",
            "Epoch 103/150\n",
            "1/1 [==============================] - 0s 8ms/step - loss: 0.1738\n",
            "Epoch 104/150\n",
            "1/1 [==============================] - 0s 6ms/step - loss: 0.1725\n",
            "Epoch 105/150\n",
            "1/1 [==============================] - 0s 11ms/step - loss: 0.1713\n",
            "Epoch 106/150\n",
            "1/1 [==============================] - 0s 8ms/step - loss: 0.1700\n",
            "Epoch 107/150\n",
            "1/1 [==============================] - 0s 4ms/step - loss: 0.1688\n",
            "Epoch 108/150\n",
            "1/1 [==============================] - 0s 6ms/step - loss: 0.1675\n",
            "Epoch 109/150\n",
            "1/1 [==============================] - 0s 4ms/step - loss: 0.1663\n",
            "Epoch 110/150\n",
            "1/1 [==============================] - 0s 5ms/step - loss: 0.1651\n",
            "Epoch 111/150\n",
            "1/1 [==============================] - 0s 4ms/step - loss: 0.1639\n",
            "Epoch 112/150\n",
            "1/1 [==============================] - 0s 5ms/step - loss: 0.1627\n",
            "Epoch 113/150\n",
            "1/1 [==============================] - 0s 5ms/step - loss: 0.1615\n",
            "Epoch 114/150\n",
            "1/1 [==============================] - 0s 5ms/step - loss: 0.1604\n",
            "Epoch 115/150\n",
            "1/1 [==============================] - 0s 6ms/step - loss: 0.1592\n",
            "Epoch 116/150\n",
            "1/1 [==============================] - 0s 6ms/step - loss: 0.1580\n",
            "Epoch 117/150\n",
            "1/1 [==============================] - 0s 7ms/step - loss: 0.1569\n",
            "Epoch 118/150\n",
            "1/1 [==============================] - 0s 4ms/step - loss: 0.1557\n",
            "Epoch 119/150\n",
            "1/1 [==============================] - 0s 4ms/step - loss: 0.1546\n",
            "Epoch 120/150\n",
            "1/1 [==============================] - 0s 4ms/step - loss: 0.1535\n",
            "Epoch 121/150\n",
            "1/1 [==============================] - 0s 4ms/step - loss: 0.1524\n",
            "Epoch 122/150\n",
            "1/1 [==============================] - 0s 5ms/step - loss: 0.1512\n",
            "Epoch 123/150\n",
            "1/1 [==============================] - 0s 3ms/step - loss: 0.1501\n",
            "Epoch 124/150\n",
            "1/1 [==============================] - 0s 7ms/step - loss: 0.1490\n",
            "Epoch 125/150\n",
            "1/1 [==============================] - 0s 5ms/step - loss: 0.1480\n",
            "Epoch 126/150\n",
            "1/1 [==============================] - 0s 18ms/step - loss: 0.1469\n",
            "Epoch 127/150\n",
            "1/1 [==============================] - 0s 5ms/step - loss: 0.1458\n",
            "Epoch 128/150\n",
            "1/1 [==============================] - 0s 5ms/step - loss: 0.1448\n",
            "Epoch 129/150\n",
            "1/1 [==============================] - 0s 5ms/step - loss: 0.1437\n",
            "Epoch 130/150\n",
            "1/1 [==============================] - 0s 5ms/step - loss: 0.1426\n",
            "Epoch 131/150\n",
            "1/1 [==============================] - 0s 5ms/step - loss: 0.1416\n",
            "Epoch 132/150\n",
            "1/1 [==============================] - 0s 4ms/step - loss: 0.1406\n",
            "Epoch 133/150\n",
            "1/1 [==============================] - 0s 5ms/step - loss: 0.1396\n",
            "Epoch 134/150\n",
            "1/1 [==============================] - 0s 6ms/step - loss: 0.1385\n",
            "Epoch 135/150\n",
            "1/1 [==============================] - 0s 4ms/step - loss: 0.1375\n",
            "Epoch 136/150\n",
            "1/1 [==============================] - 0s 4ms/step - loss: 0.1365\n",
            "Epoch 137/150\n",
            "1/1 [==============================] - 0s 10ms/step - loss: 0.1355\n",
            "Epoch 138/150\n",
            "1/1 [==============================] - 0s 8ms/step - loss: 0.1345\n",
            "Epoch 139/150\n",
            "1/1 [==============================] - 0s 5ms/step - loss: 0.1336\n",
            "Epoch 140/150\n",
            "1/1 [==============================] - 0s 5ms/step - loss: 0.1326\n",
            "Epoch 141/150\n",
            "1/1 [==============================] - 0s 8ms/step - loss: 0.1316\n",
            "Epoch 142/150\n",
            "1/1 [==============================] - 0s 5ms/step - loss: 0.1307\n",
            "Epoch 143/150\n",
            "1/1 [==============================] - 0s 13ms/step - loss: 0.1297\n",
            "Epoch 144/150\n",
            "1/1 [==============================] - 0s 9ms/step - loss: 0.1288\n",
            "Epoch 145/150\n",
            "1/1 [==============================] - 0s 9ms/step - loss: 0.1278\n",
            "Epoch 146/150\n",
            "1/1 [==============================] - 0s 6ms/step - loss: 0.1269\n",
            "Epoch 147/150\n",
            "1/1 [==============================] - 0s 11ms/step - loss: 0.1260\n",
            "Epoch 148/150\n",
            "1/1 [==============================] - 0s 4ms/step - loss: 0.1251\n",
            "Epoch 149/150\n",
            "1/1 [==============================] - 0s 7ms/step - loss: 0.1241\n",
            "Epoch 150/150\n",
            "1/1 [==============================] - 0s 7ms/step - loss: 0.1232\n"
          ],
          "name": "stdout"
        },
        {
          "output_type": "execute_result",
          "data": {
            "text/plain": [
              "<tensorflow.python.keras.callbacks.History at 0x7f4cbd894250>"
            ]
          },
          "metadata": {
            "tags": []
          },
          "execution_count": 94
        }
      ]
    },
    {
      "cell_type": "code",
      "metadata": {
        "colab": {
          "base_uri": "https://localhost:8080/"
        },
        "id": "hKJJIjLvwsSu",
        "outputId": "ea792bf3-26f6-4ffd-bf0e-8eb7e0184880"
      },
      "source": [
        "print(model.predict([10.0]))"
      ],
      "execution_count": null,
      "outputs": [
        {
          "output_type": "stream",
          "text": [
            "WARNING:tensorflow:6 out of the last 13 calls to <function Model.make_predict_function.<locals>.predict_function at 0x7f4cbe03d9e0> triggered tf.function retracing. Tracing is expensive and the excessive number of tracings could be due to (1) creating @tf.function repeatedly in a loop, (2) passing tensors with different shapes, (3) passing Python objects instead of tensors. For (1), please define your @tf.function outside of the loop. For (2), @tf.function has experimental_relax_shapes=True option that relaxes argument shapes that can avoid unnecessary retracing. For (3), please refer to https://www.tensorflow.org/guide/function#controlling_retracing and https://www.tensorflow.org/api_docs/python/tf/function for  more details.\n",
            "[[23.065119]]\n"
          ],
          "name": "stdout"
        }
      ]
    }
  ]
}