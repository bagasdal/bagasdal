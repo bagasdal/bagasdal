{
  "nbformat": 4,
  "nbformat_minor": 0,
  "metadata": {
    "colab": {
      "name": "NLP_Corona_Sentiment_Tweet.ipynb",
      "provenance": [],
      "collapsed_sections": [],
      "authorship_tag": "ABX9TyNe1/c4p1NcBYoq2HebKoHH",
      "include_colab_link": true
    },
    "kernelspec": {
      "name": "python3",
      "display_name": "Python 3"
    },
    "language_info": {
      "name": "python"
    }
  },
  "cells": [
    {
      "cell_type": "markdown",
      "metadata": {
        "id": "view-in-github",
        "colab_type": "text"
      },
      "source": [
        "<a href=\"https://colab.research.google.com/github/bagasdal/bagasdal/blob/main/NLP_Corona_Sentiment_Tweet.ipynb\" target=\"_parent\"><img src=\"https://colab.research.google.com/assets/colab-badge.svg\" alt=\"Open In Colab\"/></a>"
      ]
    },
    {
      "cell_type": "markdown",
      "metadata": {
        "id": "z2RkwfgfsNdf"
      },
      "source": [
        "### **NLP Corona Sentiment tweet**\n",
        "\n",
        "\n",
        "bagas daliyanto"
      ]
    },
    {
      "cell_type": "markdown",
      "metadata": {
        "id": "dDZ3_7Hjx0MA"
      },
      "source": [
        "In this program, an NLP will be created that can find out the sentiment of tweets about corona. in this case the tweet will be categorized into 3 categories: Negative, Neutral, and Positive"
      ]
    },
    {
      "cell_type": "code",
      "metadata": {
        "colab": {
          "base_uri": "https://localhost:8080/"
        },
        "id": "MFkLADT0r7Li",
        "outputId": "4b20ceea-93ce-4916-f7df-77e755ad5677"
      },
      "source": [
        "import pandas as pd\n",
        "# Data set yang saya gunakan sudah memiliki\n",
        "df = pd.read_csv('Corona_NLP_test.csv', engine='python')\n",
        "# Melakukan cek nilai pada dataframe\n",
        "df.info()"
      ],
      "execution_count": null,
      "outputs": [
        {
          "output_type": "stream",
          "text": [
            "<class 'pandas.core.frame.DataFrame'>\n",
            "RangeIndex: 3798 entries, 0 to 3797\n",
            "Data columns (total 6 columns):\n",
            " #   Column         Non-Null Count  Dtype \n",
            "---  ------         --------------  ----- \n",
            " 0   UserName       3798 non-null   int64 \n",
            " 1   ScreenName     3798 non-null   int64 \n",
            " 2   Location       2964 non-null   object\n",
            " 3   TweetAt        3798 non-null   object\n",
            " 4   OriginalTweet  3798 non-null   object\n",
            " 5   Sentiment      3798 non-null   object\n",
            "dtypes: int64(2), object(4)\n",
            "memory usage: 178.2+ KB\n"
          ],
          "name": "stdout"
        }
      ]
    },
    {
      "cell_type": "code",
      "metadata": {
        "colab": {
          "base_uri": "https://localhost:8080/"
        },
        "id": "3p7aCCwm8EGK",
        "outputId": "a339f584-421f-454a-eef7-90472c4c9705"
      },
      "source": [
        "df_train = pd.read_csv('Corona_NLP_train.csv', engine='python')\n",
        "df_train.info()"
      ],
      "execution_count": null,
      "outputs": [
        {
          "output_type": "stream",
          "text": [
            "<class 'pandas.core.frame.DataFrame'>\n",
            "RangeIndex: 41157 entries, 0 to 41156\n",
            "Data columns (total 6 columns):\n",
            " #   Column         Non-Null Count  Dtype \n",
            "---  ------         --------------  ----- \n",
            " 0   UserName       41157 non-null  int64 \n",
            " 1   ScreenName     41157 non-null  int64 \n",
            " 2   Location       32567 non-null  object\n",
            " 3   TweetAt        41157 non-null  object\n",
            " 4   OriginalTweet  41157 non-null  object\n",
            " 5   Sentiment      41157 non-null  object\n",
            "dtypes: int64(2), object(4)\n",
            "memory usage: 1.9+ MB\n"
          ],
          "name": "stdout"
        }
      ]
    },
    {
      "cell_type": "code",
      "metadata": {
        "colab": {
          "base_uri": "https://localhost:8080/",
          "height": 417
        },
        "id": "1wWWJgRo8VBr",
        "outputId": "1f17bafb-eedd-4ff9-c5b4-992bba7d3b50"
      },
      "source": [
        "# Drop unused data\n",
        "df_train = df_train.drop(columns=['UserName', 'ScreenName', 'Location', 'TweetAt'])\n",
        "# check the result after column drop\n",
        "df_train"
      ],
      "execution_count": null,
      "outputs": [
        {
          "output_type": "execute_result",
          "data": {
            "text/html": [
              "<div>\n",
              "<style scoped>\n",
              "    .dataframe tbody tr th:only-of-type {\n",
              "        vertical-align: middle;\n",
              "    }\n",
              "\n",
              "    .dataframe tbody tr th {\n",
              "        vertical-align: top;\n",
              "    }\n",
              "\n",
              "    .dataframe thead th {\n",
              "        text-align: right;\n",
              "    }\n",
              "</style>\n",
              "<table border=\"1\" class=\"dataframe\">\n",
              "  <thead>\n",
              "    <tr style=\"text-align: right;\">\n",
              "      <th></th>\n",
              "      <th>OriginalTweet</th>\n",
              "      <th>Sentiment</th>\n",
              "    </tr>\n",
              "  </thead>\n",
              "  <tbody>\n",
              "    <tr>\n",
              "      <th>0</th>\n",
              "      <td>@MeNyrbie @Phil_Gahan @Chrisitv https://t.co/i...</td>\n",
              "      <td>Neutral</td>\n",
              "    </tr>\n",
              "    <tr>\n",
              "      <th>1</th>\n",
              "      <td>advice Talk to your neighbours family to excha...</td>\n",
              "      <td>Positive</td>\n",
              "    </tr>\n",
              "    <tr>\n",
              "      <th>2</th>\n",
              "      <td>Coronavirus Australia: Woolworths to give elde...</td>\n",
              "      <td>Positive</td>\n",
              "    </tr>\n",
              "    <tr>\n",
              "      <th>3</th>\n",
              "      <td>My food stock is not the only one which is emp...</td>\n",
              "      <td>Positive</td>\n",
              "    </tr>\n",
              "    <tr>\n",
              "      <th>4</th>\n",
              "      <td>Me, ready to go at supermarket during the #COV...</td>\n",
              "      <td>Extremely Negative</td>\n",
              "    </tr>\n",
              "    <tr>\n",
              "      <th>...</th>\n",
              "      <td>...</td>\n",
              "      <td>...</td>\n",
              "    </tr>\n",
              "    <tr>\n",
              "      <th>41152</th>\n",
              "      <td>Airline pilots offering to stock supermarket s...</td>\n",
              "      <td>Neutral</td>\n",
              "    </tr>\n",
              "    <tr>\n",
              "      <th>41153</th>\n",
              "      <td>Response to complaint not provided citing COVI...</td>\n",
              "      <td>Extremely Negative</td>\n",
              "    </tr>\n",
              "    <tr>\n",
              "      <th>41154</th>\n",
              "      <td>You know its getting tough when @KameronWilds...</td>\n",
              "      <td>Positive</td>\n",
              "    </tr>\n",
              "    <tr>\n",
              "      <th>41155</th>\n",
              "      <td>Is it wrong that the smell of hand sanitizer i...</td>\n",
              "      <td>Neutral</td>\n",
              "    </tr>\n",
              "    <tr>\n",
              "      <th>41156</th>\n",
              "      <td>@TartiiCat Well new/used Rift S are going for ...</td>\n",
              "      <td>Negative</td>\n",
              "    </tr>\n",
              "  </tbody>\n",
              "</table>\n",
              "<p>41157 rows × 2 columns</p>\n",
              "</div>"
            ],
            "text/plain": [
              "                                           OriginalTweet           Sentiment\n",
              "0      @MeNyrbie @Phil_Gahan @Chrisitv https://t.co/i...             Neutral\n",
              "1      advice Talk to your neighbours family to excha...            Positive\n",
              "2      Coronavirus Australia: Woolworths to give elde...            Positive\n",
              "3      My food stock is not the only one which is emp...            Positive\n",
              "4      Me, ready to go at supermarket during the #COV...  Extremely Negative\n",
              "...                                                  ...                 ...\n",
              "41152  Airline pilots offering to stock supermarket s...             Neutral\n",
              "41153  Response to complaint not provided citing COVI...  Extremely Negative\n",
              "41154  You know its getting tough when @KameronWilds...            Positive\n",
              "41155  Is it wrong that the smell of hand sanitizer i...             Neutral\n",
              "41156  @TartiiCat Well new/used Rift S are going for ...            Negative\n",
              "\n",
              "[41157 rows x 2 columns]"
            ]
          },
          "metadata": {
            "tags": []
          },
          "execution_count": 3
        }
      ]
    },
    {
      "cell_type": "code",
      "metadata": {
        "colab": {
          "base_uri": "https://localhost:8080/",
          "height": 203
        },
        "id": "GQao0kqgtpnZ",
        "outputId": "c9ce87d4-797b-4f01-bb3d-18598f078682"
      },
      "source": [
        "# drop unused data on head\n",
        "df = df.drop(columns=['UserName', 'ScreenName', 'Location', 'TweetAt'])\n",
        "# check the result after dropped\n",
        "df.head()"
      ],
      "execution_count": null,
      "outputs": [
        {
          "output_type": "execute_result",
          "data": {
            "text/html": [
              "<div>\n",
              "<style scoped>\n",
              "    .dataframe tbody tr th:only-of-type {\n",
              "        vertical-align: middle;\n",
              "    }\n",
              "\n",
              "    .dataframe tbody tr th {\n",
              "        vertical-align: top;\n",
              "    }\n",
              "\n",
              "    .dataframe thead th {\n",
              "        text-align: right;\n",
              "    }\n",
              "</style>\n",
              "<table border=\"1\" class=\"dataframe\">\n",
              "  <thead>\n",
              "    <tr style=\"text-align: right;\">\n",
              "      <th></th>\n",
              "      <th>OriginalTweet</th>\n",
              "      <th>Sentiment</th>\n",
              "    </tr>\n",
              "  </thead>\n",
              "  <tbody>\n",
              "    <tr>\n",
              "      <th>0</th>\n",
              "      <td>TRENDING: New Yorkers encounter empty supermar...</td>\n",
              "      <td>Extremely Negative</td>\n",
              "    </tr>\n",
              "    <tr>\n",
              "      <th>1</th>\n",
              "      <td>When I couldn't find hand sanitizer at Fred Me...</td>\n",
              "      <td>Positive</td>\n",
              "    </tr>\n",
              "    <tr>\n",
              "      <th>2</th>\n",
              "      <td>Find out how you can protect yourself and love...</td>\n",
              "      <td>Extremely Positive</td>\n",
              "    </tr>\n",
              "    <tr>\n",
              "      <th>3</th>\n",
              "      <td>#Panic buying hits #NewYork City as anxious sh...</td>\n",
              "      <td>Negative</td>\n",
              "    </tr>\n",
              "    <tr>\n",
              "      <th>4</th>\n",
              "      <td>#toiletpaper #dunnypaper #coronavirus #coronav...</td>\n",
              "      <td>Neutral</td>\n",
              "    </tr>\n",
              "  </tbody>\n",
              "</table>\n",
              "</div>"
            ],
            "text/plain": [
              "                                       OriginalTweet           Sentiment\n",
              "0  TRENDING: New Yorkers encounter empty supermar...  Extremely Negative\n",
              "1  When I couldn't find hand sanitizer at Fred Me...            Positive\n",
              "2  Find out how you can protect yourself and love...  Extremely Positive\n",
              "3  #Panic buying hits #NewYork City as anxious sh...            Negative\n",
              "4  #toiletpaper #dunnypaper #coronavirus #coronav...             Neutral"
            ]
          },
          "metadata": {
            "tags": []
          },
          "execution_count": 4
        }
      ]
    },
    {
      "cell_type": "code",
      "metadata": {
        "colab": {
          "base_uri": "https://localhost:8080/"
        },
        "id": "7w6_Vg7lTseF",
        "outputId": "3b658299-76db-46bb-f1ef-fe1b84b19b40"
      },
      "source": [
        "# combine 2 data frame\n",
        "df_gabungan = pd.concat([df, df_train], ignore_index=True)\n",
        "\n",
        "# Check data with value null\n",
        "df_gabungan.isnull().sum()"
      ],
      "execution_count": null,
      "outputs": [
        {
          "output_type": "execute_result",
          "data": {
            "text/plain": [
              "OriginalTweet    0\n",
              "Sentiment        0\n",
              "dtype: int64"
            ]
          },
          "metadata": {
            "tags": []
          },
          "execution_count": 6
        }
      ]
    },
    {
      "cell_type": "code",
      "metadata": {
        "colab": {
          "base_uri": "https://localhost:8080/"
        },
        "id": "yDYd6sxBUx00",
        "outputId": "547b0294-82f6-400a-f94a-ff5ffc1c2686"
      },
      "source": [
        "df_gabungan.shape"
      ],
      "execution_count": null,
      "outputs": [
        {
          "output_type": "execute_result",
          "data": {
            "text/plain": [
              "(44955, 2)"
            ]
          },
          "metadata": {
            "tags": []
          },
          "execution_count": 7
        }
      ]
    },
    {
      "cell_type": "code",
      "metadata": {
        "colab": {
          "base_uri": "https://localhost:8080/",
          "height": 203
        },
        "id": "3Kx5Cf7MU599",
        "outputId": "f0ba27ea-4d99-4407-a23d-a18fddd1e9b6"
      },
      "source": [
        "df_gabungan.tail()"
      ],
      "execution_count": null,
      "outputs": [
        {
          "output_type": "execute_result",
          "data": {
            "text/html": [
              "<div>\n",
              "<style scoped>\n",
              "    .dataframe tbody tr th:only-of-type {\n",
              "        vertical-align: middle;\n",
              "    }\n",
              "\n",
              "    .dataframe tbody tr th {\n",
              "        vertical-align: top;\n",
              "    }\n",
              "\n",
              "    .dataframe thead th {\n",
              "        text-align: right;\n",
              "    }\n",
              "</style>\n",
              "<table border=\"1\" class=\"dataframe\">\n",
              "  <thead>\n",
              "    <tr style=\"text-align: right;\">\n",
              "      <th></th>\n",
              "      <th>OriginalTweet</th>\n",
              "      <th>Sentiment</th>\n",
              "    </tr>\n",
              "  </thead>\n",
              "  <tbody>\n",
              "    <tr>\n",
              "      <th>44950</th>\n",
              "      <td>Airline pilots offering to stock supermarket s...</td>\n",
              "      <td>Neutral</td>\n",
              "    </tr>\n",
              "    <tr>\n",
              "      <th>44951</th>\n",
              "      <td>Response to complaint not provided citing COVI...</td>\n",
              "      <td>Extremely Negative</td>\n",
              "    </tr>\n",
              "    <tr>\n",
              "      <th>44952</th>\n",
              "      <td>You know its getting tough when @KameronWilds...</td>\n",
              "      <td>Positive</td>\n",
              "    </tr>\n",
              "    <tr>\n",
              "      <th>44953</th>\n",
              "      <td>Is it wrong that the smell of hand sanitizer i...</td>\n",
              "      <td>Neutral</td>\n",
              "    </tr>\n",
              "    <tr>\n",
              "      <th>44954</th>\n",
              "      <td>@TartiiCat Well new/used Rift S are going for ...</td>\n",
              "      <td>Negative</td>\n",
              "    </tr>\n",
              "  </tbody>\n",
              "</table>\n",
              "</div>"
            ],
            "text/plain": [
              "                                           OriginalTweet           Sentiment\n",
              "44950  Airline pilots offering to stock supermarket s...             Neutral\n",
              "44951  Response to complaint not provided citing COVI...  Extremely Negative\n",
              "44952  You know its getting tough when @KameronWilds...            Positive\n",
              "44953  Is it wrong that the smell of hand sanitizer i...             Neutral\n",
              "44954  @TartiiCat Well new/used Rift S are going for ...            Negative"
            ]
          },
          "metadata": {
            "tags": []
          },
          "execution_count": 9
        }
      ]
    },
    {
      "cell_type": "code",
      "metadata": {
        "colab": {
          "base_uri": "https://localhost:8080/",
          "height": 203
        },
        "id": "HF3QjSuFVyPt",
        "outputId": "69a67629-adf1-445f-a11f-36e9cb0bd59e"
      },
      "source": [
        "df_gabungan.loc[(df_gabungan.Sentiment == 'Extremely Negative'),'Sentiment']='Negative'\n",
        "df_gabungan.loc[(df_gabungan.Sentiment == 'Extremely Positive'),'Sentiment']='Positive'\n",
        "# index_names = df[ df['Sentiment'] == 'Neutral' ].index\n",
        "# df.drop(index_names, inplace = True)\n",
        "df_gabungan.head()"
      ],
      "execution_count": null,
      "outputs": [
        {
          "output_type": "execute_result",
          "data": {
            "text/html": [
              "<div>\n",
              "<style scoped>\n",
              "    .dataframe tbody tr th:only-of-type {\n",
              "        vertical-align: middle;\n",
              "    }\n",
              "\n",
              "    .dataframe tbody tr th {\n",
              "        vertical-align: top;\n",
              "    }\n",
              "\n",
              "    .dataframe thead th {\n",
              "        text-align: right;\n",
              "    }\n",
              "</style>\n",
              "<table border=\"1\" class=\"dataframe\">\n",
              "  <thead>\n",
              "    <tr style=\"text-align: right;\">\n",
              "      <th></th>\n",
              "      <th>OriginalTweet</th>\n",
              "      <th>Sentiment</th>\n",
              "    </tr>\n",
              "  </thead>\n",
              "  <tbody>\n",
              "    <tr>\n",
              "      <th>0</th>\n",
              "      <td>TRENDING: New Yorkers encounter empty supermar...</td>\n",
              "      <td>Negative</td>\n",
              "    </tr>\n",
              "    <tr>\n",
              "      <th>1</th>\n",
              "      <td>When I couldn't find hand sanitizer at Fred Me...</td>\n",
              "      <td>Positive</td>\n",
              "    </tr>\n",
              "    <tr>\n",
              "      <th>2</th>\n",
              "      <td>Find out how you can protect yourself and love...</td>\n",
              "      <td>Positive</td>\n",
              "    </tr>\n",
              "    <tr>\n",
              "      <th>3</th>\n",
              "      <td>#Panic buying hits #NewYork City as anxious sh...</td>\n",
              "      <td>Negative</td>\n",
              "    </tr>\n",
              "    <tr>\n",
              "      <th>4</th>\n",
              "      <td>#toiletpaper #dunnypaper #coronavirus #coronav...</td>\n",
              "      <td>Neutral</td>\n",
              "    </tr>\n",
              "  </tbody>\n",
              "</table>\n",
              "</div>"
            ],
            "text/plain": [
              "                                       OriginalTweet Sentiment\n",
              "0  TRENDING: New Yorkers encounter empty supermar...  Negative\n",
              "1  When I couldn't find hand sanitizer at Fred Me...  Positive\n",
              "2  Find out how you can protect yourself and love...  Positive\n",
              "3  #Panic buying hits #NewYork City as anxious sh...  Negative\n",
              "4  #toiletpaper #dunnypaper #coronavirus #coronav...   Neutral"
            ]
          },
          "metadata": {
            "tags": []
          },
          "execution_count": 13
        }
      ]
    },
    {
      "cell_type": "code",
      "metadata": {
        "colab": {
          "base_uri": "https://localhost:8080/",
          "height": 331
        },
        "id": "3n-1xGwnVC-S",
        "outputId": "54e050e5-e784-4b29-a2c3-e5df38234fbe"
      },
      "source": [
        "import matplotlib.pyplot as plt\n",
        "\n",
        "# display data distribution\n",
        "df_gabungan.groupby('Sentiment').count().plot(kind='bar')"
      ],
      "execution_count": null,
      "outputs": [
        {
          "output_type": "execute_result",
          "data": {
            "text/plain": [
              "<matplotlib.axes._subplots.AxesSubplot at 0x7f316f17cfd0>"
            ]
          },
          "metadata": {
            "tags": []
          },
          "execution_count": 14
        },
        {
          "output_type": "display_data",
          "data": {
            "image/png": "[encoded data removed]",
            "text/plain": [
              "<Figure size 432x288 with 1 Axes>"
            ]
          },
          "metadata": {
            "tags": [],
            "needs_background": "light"
          }
        }
      ]
    },
    {
      "cell_type": "code",
      "metadata": {
        "colab": {
          "base_uri": "https://localhost:8080/"
        },
        "id": "zqoKYMdFWHfH",
        "outputId": "331e864c-5790-437c-f87b-2a5f582e07e9"
      },
      "source": [
        "# Preprocessing Dataframe to get better result\n",
        "import re\n",
        "import nltk\n",
        "nltk.download(\"stopwords\")\n",
        "from nltk.corpus import stopwords\n",
        "from nltk.stem.porter import *\n",
        "\n",
        "def tweet_to_words(tweet):\n",
        "    \n",
        "    text = tweet.lower()\n",
        "    text = re.sub(r\"[^a-zA-Z0-9]\", \" \", text)\n",
        "    words = text.split()\n",
        "    words = [w for w in words if w not in stopwords.words(\"english\")]\n",
        "    words = [PorterStemmer().stem(w) for w in words]\n",
        "    return words\n",
        "\n",
        "print(\"\\nOriginal tweet ->\", df_gabungan['OriginalTweet'][0])\n",
        "print(\"\\nProcessed tweet ->\", tweet_to_words(df_gabungan['OriginalTweet'][0]))"
      ],
      "execution_count": null,
      "outputs": [
        {
          "output_type": "stream",
          "text": [
            "[nltk_data] Downloading package stopwords to /root/nltk_data...\n",
            "[nltk_data]   Package stopwords is already up-to-date!\n",
            "\n",
            "Original tweet -> TRENDING: New Yorkers encounter empty supermarket shelves (pictured, Wegmans in Brooklyn), sold-out online grocers (FoodKick, MaxDelivery) as #coronavirus-fearing shoppers stock up https://t.co/Gr76pcrLWh https://t.co/ivMKMsqdT1\n",
            "\n",
            "Processed tweet -> ['trend', 'new', 'yorker', 'encount', 'empti', 'supermarket', 'shelv', 'pictur', 'wegman', 'brooklyn', 'sold', 'onlin', 'grocer', 'foodkick', 'maxdeliveri', 'coronaviru', 'fear', 'shopper', 'stock', 'http', 'co', 'gr76pcrlwh', 'http', 'co', 'ivmkmsqdt1']\n"
          ],
          "name": "stdout"
        }
      ]
    },
    {
      "cell_type": "code",
      "metadata": {
        "id": "ioi4SB9iWbQi"
      },
      "source": [
        "X = list(map(tweet_to_words, df_gabungan['OriginalTweet']))"
      ],
      "execution_count": null,
      "outputs": []
    },
    {
      "cell_type": "code",
      "metadata": {
        "id": "8ZWdFTHfWiXE"
      },
      "source": [
        "from sklearn.preprocessing import LabelEncoder\n",
        "\n",
        "# encode the label\n",
        "le = LabelEncoder()\n",
        "Y = le.fit_transform(df_gabungan['Sentiment'])"
      ],
      "execution_count": null,
      "outputs": []
    },
    {
      "cell_type": "code",
      "metadata": {
        "colab": {
          "base_uri": "https://localhost:8080/"
        },
        "id": "D6SmhqbaWmOD",
        "outputId": "7fd4b9cc-58d6-4b2b-8286-e0f78abebd1f"
      },
      "source": [
        "print(X[0])\n",
        "print(Y[0])"
      ],
      "execution_count": null,
      "outputs": [
        {
          "output_type": "stream",
          "text": [
            "['trend', 'new', 'yorker', 'encount', 'empti', 'supermarket', 'shelv', 'pictur', 'wegman', 'brooklyn', 'sold', 'onlin', 'grocer', 'foodkick', 'maxdeliveri', 'coronaviru', 'fear', 'shopper', 'stock', 'http', 'co', 'gr76pcrlwh', 'http', 'co', 'ivmkmsqdt1']\n",
            "0\n"
          ],
          "name": "stdout"
        }
      ]
    },
    {
      "cell_type": "code",
      "metadata": {
        "id": "Qfa_mIWSWoiz"
      },
      "source": [
        "from sklearn.model_selection import train_test_split\n",
        "import tensorflow as tf\n",
        "import seaborn as sns\n",
        "\n",
        "y = pd.get_dummies(df_gabungan['Sentiment'])\n",
        "X_train, X_test, y_train, y_test = train_test_split(X, y, test_size=0.2, random_state=1)\n",
        "X_train, X_val, y_train, y_val = train_test_split(X_train, y_train, test_size=0.25, random_state=1)"
      ],
      "execution_count": null,
      "outputs": []
    },
    {
      "cell_type": "code",
      "metadata": {
        "id": "itxHIheMWzJp"
      },
      "source": [
        "from sklearn.feature_extraction.text import CountVectorizer\n",
        "\n",
        "vocabulary_size = 5000\n",
        "\n",
        "count_vector = CountVectorizer(max_features=vocabulary_size,\n",
        "                                preprocessor=lambda x: x,\n",
        "                               tokenizer=lambda x: x) \n",
        "\n",
        "# Fit training data\n",
        "X_train = count_vector.fit_transform(X_train).toarray()\n",
        "\n",
        "# Transform testing data\n",
        "X_test = count_vector.transform(X_test).toarray()"
      ],
      "execution_count": null,
      "outputs": []
    },
    {
      "cell_type": "code",
      "metadata": {
        "colab": {
          "base_uri": "https://localhost:8080/"
        },
        "id": "hBx_V7qyVfV9",
        "outputId": "289efebd-6949-4b0d-c658-cb95c0443a08"
      },
      "source": [
        "print(count_vector.get_feature_names()[0:200])"
      ],
      "execution_count": null,
      "outputs": [
        {
          "output_type": "stream",
          "text": [
            "['0', '00', '000', '00pm', '03', '06', '07', '08', '09', '1', '10', '100', '1000', '100k', '10am', '10downingstreet', '10pm', '10th', '11', '111', '11am', '12', '125', '12pm', '13', '130', '14', '15', '150', '16', '17', '17th', '18', '19', '19australia', '19sa', '19th', '19uk', '1m', '1st', '2', '20', '200', '2000', '2002', '2003', '2008', '2016', '2018', '2019', '2019cov', '202', '2020', '2021', '21', '219', '21daylockdown', '21dayslockdown', '22', '224', '23', '24', '25', '250', '25th', '26', '27', '28', '29', '2m', '2nd', '2pli', '2x', '3', '30', '300', '3000', '30am', '30pm', '31', '3121', '32', '33', '34', '35', '35k', '36', '360', '37', '39', '3d', '3dprint', '3m', '3pli', '3rd', '3x', '4', '40', '400', '4000', '41', '42', '43', '44', '45', '46', '47', '48', '49', '4pm', '4th', '5', '50', '500', '5000', '500ml', '52', '53', '54', '55', '56', '57', '58', '5am', '5g', '5k', '5m', '5pm', '5th', '6', '60', '600', '62', '64', '65', '66', '67', '6am', '6ft', '6th', '7', '70', '700', '71', '72', '75', '77', '7am', '7new', '7pm', '7th', '8', '80', '800', '85', '88', '89', '8am', '8pm', '9', '90', '900', '91', '92', '94', '95', '97', '9739', '99', '999', '9am', '9pm', '9th', 'aaa', 'ab', 'abandon', 'abc', 'abcnew', 'abid', 'abil', 'abl', 'abroad', 'absolut', 'absurd', 'abt', 'abund', 'abus', 'accc', 'acceler', 'accept', 'access', 'accessori', 'accident', 'accommod', 'accord', 'accordingli', 'account', 'accur', 'accus', 'achiev']\n"
          ],
          "name": "stdout"
        }
      ]
    },
    {
      "cell_type": "code",
      "metadata": {
        "colab": {
          "base_uri": "https://localhost:8080/"
        },
        "id": "Av5IRx9uXYuA",
        "outputId": "c8555216-8116-40bc-8ca6-ed811c26ddca"
      },
      "source": [
        "from keras.preprocessing.text import Tokenizer\n",
        "from keras.preprocessing.sequence import pad_sequences\n",
        "\n",
        "max_words = 5000\n",
        "max_len=50\n",
        "\n",
        "# tokenize and sequence to data frame\n",
        "def tokenize_pad_sequences(text):\n",
        "\n",
        "    tokenizer = Tokenizer(num_words=max_words, lower=True, split=' ')\n",
        "    tokenizer.fit_on_texts(text)\n",
        "    X = tokenizer.texts_to_sequences(text)\n",
        "    X = pad_sequences(X, padding='post', maxlen=max_len)\n",
        "    return X, tokenizer\n",
        "\n",
        "print('Before Tokenization & Padding \\n', df_gabungan['OriginalTweet'][0])\n",
        "X, tokenizer = tokenize_pad_sequences(df_gabungan['OriginalTweet'])\n",
        "print('After Tokenization & Padding \\n', X[0])"
      ],
      "execution_count": null,
      "outputs": [
        {
          "output_type": "stream",
          "text": [
            "Before Tokenization & Padding \n",
            " TRENDING: New Yorkers encounter empty supermarket shelves (pictured, Wegmans in Brooklyn), sold-out online grocers (FoodKick, MaxDelivery) as #coronavirus-fearing shoppers stock up https://t.co/Gr76pcrLWh https://t.co/ivMKMsqdT1\n",
            "After Tokenization & Padding \n",
            " [2312   99  207   25  122 3826   10 3595  599   46   55 1943   31   11\n",
            "  362   71   44    7    4    6    7    4    6    0    0    0    0    0\n",
            "    0    0    0    0    0    0    0    0    0    0    0    0    0    0\n",
            "    0    0    0    0    0    0    0    0]\n"
          ],
          "name": "stdout"
        }
      ]
    },
    {
      "cell_type": "code",
      "metadata": {
        "colab": {
          "base_uri": "https://localhost:8080/"
        },
        "id": "PYR4fpLvXij0",
        "outputId": "915ca5f6-31dd-462b-a857-e61a823038ba"
      },
      "source": [
        "# prepare data for validation and testing\n",
        "y = pd.get_dummies(df_gabungan['Sentiment'])\n",
        "X_train, X_test, y_train, y_test = train_test_split(X, y, test_size=0.2, random_state=1)\n",
        "X_train, X_val, y_train, y_val = train_test_split(X_train, y_train, test_size=0.25, random_state=1)\n",
        "print('Train Set ->', X_train.shape, y_train.shape)\n",
        "print('Validation Set ->', X_val.shape, y_val.shape)\n",
        "print('Test Set ->', X_test.shape, y_test.shape)"
      ],
      "execution_count": null,
      "outputs": [
        {
          "output_type": "stream",
          "text": [
            "Train Set -> (26973, 50) (26973, 3)\n",
            "Validation Set -> (8991, 50) (8991, 3)\n",
            "Test Set -> (8991, 50) (8991, 3)\n"
          ],
          "name": "stdout"
        }
      ]
    },
    {
      "cell_type": "code",
      "metadata": {
        "colab": {
          "base_uri": "https://localhost:8080/"
        },
        "id": "nfsd49nmXmPs",
        "outputId": "6a4a6929-094b-471a-aa3f-7fc459c784e2"
      },
      "source": [
        "from keras.models import Sequential\n",
        "from keras.layers import Embedding, Conv1D, MaxPooling1D, Bidirectional, LSTM, Dense, Dropout\n",
        "from keras.metrics import Precision, Recall\n",
        "from keras.optimizers import SGD\n",
        "from keras.optimizers import RMSprop\n",
        "from keras import datasets\n",
        "\n",
        "from keras.callbacks import LearningRateScheduler\n",
        "from keras.callbacks import History\n",
        "\n",
        "from keras import losses\n",
        "\n",
        "vocab_size = 5000\n",
        "embedding_size = 32\n",
        "epochs=50\n",
        "learning_rate = 0.1\n",
        "decay_rate = learning_rate / epochs\n",
        "momentum = 0.8\n",
        "\n",
        "sgd = SGD(lr=learning_rate, momentum=momentum, decay=decay_rate, nesterov=False)\n",
        "model= Sequential()\n",
        "model.add(Embedding(vocab_size, embedding_size, input_length=max_len))\n",
        "model.add(Conv1D(filters=32, kernel_size=3, padding='same', activation='relu'))\n",
        "model.add(MaxPooling1D(pool_size=2))\n",
        "model.add(Bidirectional(LSTM(32)))\n",
        "model.add(Dropout(0.4))\n",
        "# model.add(Dense(32, activation = 'relu'))\n",
        "# model.add(Dropout(0.4))\n",
        "model.add(Dense(3, activation='softmax'))"
      ],
      "execution_count": null,
      "outputs": [
        {
          "output_type": "stream",
          "text": [
            "/usr/local/lib/python3.7/dist-packages/tensorflow/python/keras/optimizer_v2/optimizer_v2.py:375: UserWarning: The `lr` argument is deprecated, use `learning_rate` instead.\n",
            "  \"The `lr` argument is deprecated, use `learning_rate` instead.\")\n"
          ],
          "name": "stderr"
        }
      ]
    },
    {
      "cell_type": "code",
      "metadata": {
        "colab": {
          "base_uri": "https://localhost:8080/"
        },
        "id": "7pADp8LJXriL",
        "outputId": "22ad9cd6-43ad-47d4-8f50-703820394c34"
      },
      "source": [
        "# Callbacks\n",
        "class myCallback(tf.keras.callbacks.Callback):\n",
        "  def on_epoch_end(self, epoch, logs={}):\n",
        "    if(logs.get('accuracy')>0.90):\n",
        "      print(\"\\nAkurasi test telah mencapai >90%!\")\n",
        "      self.model.stop_training = True\n",
        "callbacks = myCallback()\n",
        "\n",
        "# Compile model\n",
        "model.compile(loss='categorical_crossentropy', optimizer=sgd, \n",
        "               metrics=['accuracy'])\n",
        "\n",
        "# Train model\n",
        "\n",
        "batch_size = 64\n",
        "history = model.fit(X_train, y_train,\n",
        "                      validation_data=(X_val, y_val),\n",
        "                      batch_size=batch_size, epochs=epochs, \n",
        "                      callbacks = [callbacks], verbose=1)"
      ],
      "execution_count": null,
      "outputs": [
        {
          "output_type": "stream",
          "text": [
            "Epoch 1/50\n",
            "422/422 [==============================] - 74s 51ms/step - loss: 1.0072 - accuracy: 0.4344 - val_loss: 0.9860 - val_accuracy: 0.4723\n",
            "Epoch 2/50\n",
            "422/422 [==============================] - 20s 48ms/step - loss: 0.9852 - accuracy: 0.4540 - val_loss: 0.9575 - val_accuracy: 0.4895\n",
            "Epoch 3/50\n",
            "422/422 [==============================] - 20s 48ms/step - loss: 0.9441 - accuracy: 0.4891 - val_loss: 0.9618 - val_accuracy: 0.4958\n",
            "Epoch 4/50\n",
            "422/422 [==============================] - 21s 49ms/step - loss: 0.8763 - accuracy: 0.5597 - val_loss: 0.8164 - val_accuracy: 0.6284\n",
            "Epoch 5/50\n",
            "422/422 [==============================] - 18s 44ms/step - loss: 0.7921 - accuracy: 0.6428 - val_loss: 0.7547 - val_accuracy: 0.6701\n",
            "Epoch 6/50\n",
            "422/422 [==============================] - 18s 43ms/step - loss: 0.7228 - accuracy: 0.6945 - val_loss: 0.7536 - val_accuracy: 0.6854\n",
            "Epoch 7/50\n",
            "422/422 [==============================] - 17s 40ms/step - loss: 0.6418 - accuracy: 0.7469 - val_loss: 0.6693 - val_accuracy: 0.7218\n",
            "Epoch 8/50\n",
            "422/422 [==============================] - 18s 42ms/step - loss: 0.5525 - accuracy: 0.7966 - val_loss: 0.5747 - val_accuracy: 0.7798\n",
            "Epoch 9/50\n",
            "422/422 [==============================] - 18s 44ms/step - loss: 0.4942 - accuracy: 0.8266 - val_loss: 0.5407 - val_accuracy: 0.7990\n",
            "Epoch 10/50\n",
            "422/422 [==============================] - 17s 40ms/step - loss: 0.4485 - accuracy: 0.8488 - val_loss: 0.5263 - val_accuracy: 0.8095\n",
            "Epoch 11/50\n",
            "422/422 [==============================] - 18s 43ms/step - loss: 0.4213 - accuracy: 0.8614 - val_loss: 0.4937 - val_accuracy: 0.8265\n",
            "Epoch 12/50\n",
            "422/422 [==============================] - 20s 46ms/step - loss: 0.3874 - accuracy: 0.8752 - val_loss: 0.5000 - val_accuracy: 0.8239\n",
            "Epoch 13/50\n",
            "422/422 [==============================] - 19s 44ms/step - loss: 0.3596 - accuracy: 0.8863 - val_loss: 0.5016 - val_accuracy: 0.8242\n",
            "Epoch 14/50\n",
            "422/422 [==============================] - 18s 44ms/step - loss: 0.3547 - accuracy: 0.8876 - val_loss: 0.5550 - val_accuracy: 0.8035\n",
            "Epoch 15/50\n",
            "422/422 [==============================] - 18s 43ms/step - loss: 0.3441 - accuracy: 0.8948 - val_loss: 0.5080 - val_accuracy: 0.8258\n",
            "Epoch 16/50\n",
            "422/422 [==============================] - 17s 39ms/step - loss: 0.3281 - accuracy: 0.8988 - val_loss: 0.4783 - val_accuracy: 0.8372\n",
            "Epoch 17/50\n",
            "422/422 [==============================] - 19s 46ms/step - loss: 0.3125 - accuracy: 0.9075 - val_loss: 0.4964 - val_accuracy: 0.8299\n",
            "\n",
            "Akurasi test telah mencapai >90%!\n"
          ],
          "name": "stdout"
        }
      ]
    },
    {
      "cell_type": "code",
      "metadata": {
        "colab": {
          "base_uri": "https://localhost:8080/",
          "height": 295
        },
        "id": "Es-cs7S649AX",
        "outputId": "4862f279-9272-4c97-ce0b-8f92dbeba38a"
      },
      "source": [
        "# Plotting Model Loss dan Accuracy\n",
        "\n",
        "plt.plot(history.history['loss'])\n",
        "plt.title('Model loss')\n",
        "plt.ylabel('Loss')\n",
        "plt.xlabel('Epoch')\n",
        "plt.legend(['Train'], loc='upper right')\n",
        "plt.show()"
      ],
      "execution_count": null,
      "outputs": [
        {
          "output_type": "display_data",
          "data": {
            "image/png": "[encoded data removed]",
            "text/plain": [
              "<Figure size 432x288 with 1 Axes>"
            ]
          },
          "metadata": {
            "tags": [],
            "needs_background": "light"
          }
        }
      ]
    },
    {
      "cell_type": "code",
      "metadata": {
        "colab": {
          "base_uri": "https://localhost:8080/",
          "height": 295
        },
        "id": "cyjCS6Zs6oBi",
        "outputId": "421e2e1c-8402-40ab-aa67-4cf7e31b68cd"
      },
      "source": [
        "plt.plot(history.history['accuracy'])\n",
        "plt.title('Model accuracy')\n",
        "plt.ylabel('Accuracy')\n",
        "plt.xlabel('Epoch')\n",
        "plt.legend(['Train'], loc='lower right')\n",
        "plt.show()"
      ],
      "execution_count": null,
      "outputs": [
        {
          "output_type": "display_data",
          "data": {
            "image/png": "[encoded data removed]",
            "text/plain": [
              "<Figure size 432x288 with 1 Axes>"
            ]
          },
          "metadata": {
            "tags": [],
            "needs_background": "light"
          }
        }
      ]
    }
  ]
}
