{
  "nbformat": 4,
  "nbformat_minor": 0,
  "metadata": {
    "colab": {
      "name": "Temp Time Series.ipynb",
      "provenance": [],
      "authorship_tag": "ABX9TyOrIXB3K4XfneTHjCKzJNMj",
      "include_colab_link": true
    },
    "kernelspec": {
      "name": "python3",
      "display_name": "Python 3"
    },
    "language_info": {
      "name": "python"
    }
  },
  "cells": [
    {
      "cell_type": "markdown",
      "metadata": {
        "id": "view-in-github",
        "colab_type": "text"
      },
      "source": [
        "<a href=\"https://colab.research.google.com/github/bagasdal/bagasdal/blob/main/Temp_Time_Series.ipynb\" target=\"_parent\"><img src=\"https://colab.research.google.com/assets/colab-badge.svg\" alt=\"Open In Colab\"/></a>"
      ]
    },
    {
      "cell_type": "markdown",
      "metadata": {
        "id": "4mqqG74iA6mL"
      },
      "source": [
        "# Temp Time series\n",
        "\n",
        "\n",
        "bagas daliyanto"
      ]
    },
    {
      "cell_type": "code",
      "metadata": {
        "colab": {
          "base_uri": "https://localhost:8080/",
          "height": 203
        },
        "id": "7BKTftxjp8fB",
        "outputId": "13dd7917-5cb7-4929-881e-6380951805b0"
      },
      "source": [
        "import numpy as np\n",
        "import pandas as pd\n",
        "from keras.layers import Dense, LSTM\n",
        "import matplotlib.pyplot as plt\n",
        "import tensorflow as tf\n",
        "\n",
        "df = pd.read_csv('IOT-temp.csv')\n",
        "df.head()"
      ],
      "execution_count": null,
      "outputs": [
        {
          "output_type": "execute_result",
          "data": {
            "text/html": [
              "<div>\n",
              "<style scoped>\n",
              "    .dataframe tbody tr th:only-of-type {\n",
              "        vertical-align: middle;\n",
              "    }\n",
              "\n",
              "    .dataframe tbody tr th {\n",
              "        vertical-align: top;\n",
              "    }\n",
              "\n",
              "    .dataframe thead th {\n",
              "        text-align: right;\n",
              "    }\n",
              "</style>\n",
              "<table border=\"1\" class=\"dataframe\">\n",
              "  <thead>\n",
              "    <tr style=\"text-align: right;\">\n",
              "      <th></th>\n",
              "      <th>id</th>\n",
              "      <th>room_id/id</th>\n",
              "      <th>noted_date</th>\n",
              "      <th>temp</th>\n",
              "      <th>out/in</th>\n",
              "    </tr>\n",
              "  </thead>\n",
              "  <tbody>\n",
              "    <tr>\n",
              "      <th>0</th>\n",
              "      <td>__export__.temp_log_196134_bd201015</td>\n",
              "      <td>Room Admin</td>\n",
              "      <td>08-12-2018 09:30</td>\n",
              "      <td>29</td>\n",
              "      <td>In</td>\n",
              "    </tr>\n",
              "    <tr>\n",
              "      <th>1</th>\n",
              "      <td>__export__.temp_log_196131_7bca51bc</td>\n",
              "      <td>Room Admin</td>\n",
              "      <td>08-12-2018 09:30</td>\n",
              "      <td>29</td>\n",
              "      <td>In</td>\n",
              "    </tr>\n",
              "    <tr>\n",
              "      <th>2</th>\n",
              "      <td>__export__.temp_log_196127_522915e3</td>\n",
              "      <td>Room Admin</td>\n",
              "      <td>08-12-2018 09:29</td>\n",
              "      <td>41</td>\n",
              "      <td>Out</td>\n",
              "    </tr>\n",
              "    <tr>\n",
              "      <th>3</th>\n",
              "      <td>__export__.temp_log_196128_be0919cf</td>\n",
              "      <td>Room Admin</td>\n",
              "      <td>08-12-2018 09:29</td>\n",
              "      <td>41</td>\n",
              "      <td>Out</td>\n",
              "    </tr>\n",
              "    <tr>\n",
              "      <th>4</th>\n",
              "      <td>__export__.temp_log_196126_d30b72fb</td>\n",
              "      <td>Room Admin</td>\n",
              "      <td>08-12-2018 09:29</td>\n",
              "      <td>31</td>\n",
              "      <td>In</td>\n",
              "    </tr>\n",
              "  </tbody>\n",
              "</table>\n",
              "</div>"
            ],
            "text/plain": [
              "                                    id  room_id/id  ... temp  out/in\n",
              "0  __export__.temp_log_196134_bd201015  Room Admin  ...   29      In\n",
              "1  __export__.temp_log_196131_7bca51bc  Room Admin  ...   29      In\n",
              "2  __export__.temp_log_196127_522915e3  Room Admin  ...   41     Out\n",
              "3  __export__.temp_log_196128_be0919cf  Room Admin  ...   41     Out\n",
              "4  __export__.temp_log_196126_d30b72fb  Room Admin  ...   31      In\n",
              "\n",
              "[5 rows x 5 columns]"
            ]
          },
          "metadata": {
            "tags": []
          },
          "execution_count": 20
        }
      ]
    },
    {
      "cell_type": "code",
      "metadata": {
        "colab": {
          "base_uri": "https://localhost:8080/"
        },
        "id": "Qw0nJxO4ETGP",
        "outputId": "0028f078-87b2-4392-a08c-d124117f192f"
      },
      "source": [
        "df.info()"
      ],
      "execution_count": null,
      "outputs": [
        {
          "output_type": "stream",
          "text": [
            "<class 'pandas.core.frame.DataFrame'>\n",
            "RangeIndex: 97606 entries, 0 to 97605\n",
            "Data columns (total 5 columns):\n",
            " #   Column      Non-Null Count  Dtype \n",
            "---  ------      --------------  ----- \n",
            " 0   id          97606 non-null  object\n",
            " 1   room_id/id  97606 non-null  object\n",
            " 2   noted_date  97606 non-null  object\n",
            " 3   temp        97606 non-null  int64 \n",
            " 4   out/in      97606 non-null  object\n",
            "dtypes: int64(1), object(4)\n",
            "memory usage: 3.7+ MB\n"
          ],
          "name": "stdout"
        }
      ]
    },
    {
      "cell_type": "code",
      "metadata": {
        "colab": {
          "base_uri": "https://localhost:8080/"
        },
        "id": "tnbK3E3E-84d",
        "outputId": "770b84f8-f193-42f4-84eb-1493f128cddf"
      },
      "source": [
        "df.isnull().sum()"
      ],
      "execution_count": null,
      "outputs": [
        {
          "output_type": "execute_result",
          "data": {
            "text/plain": [
              "id            0\n",
              "room_id/id    0\n",
              "noted_date    0\n",
              "temp          0\n",
              "out/in        0\n",
              "dtype: int64"
            ]
          },
          "metadata": {
            "tags": []
          },
          "execution_count": 9
        }
      ]
    },
    {
      "cell_type": "code",
      "metadata": {
        "colab": {
          "base_uri": "https://localhost:8080/"
        },
        "id": "JqlAN0Mw_gxx",
        "outputId": "d04562e9-0be6-4f4f-f237-4655200a89f6"
      },
      "source": [
        "# Filtering Data\n",
        "\n",
        "index_names = df[ df['out/in'] == 'In' ].index\n",
        "df.drop(index_names, inplace = True)\n",
        "df.info()"
      ],
      "execution_count": null,
      "outputs": [
        {
          "output_type": "stream",
          "text": [
            "<class 'pandas.core.frame.DataFrame'>\n",
            "Int64Index: 77261 entries, 2 to 97599\n",
            "Data columns (total 5 columns):\n",
            " #   Column      Non-Null Count  Dtype \n",
            "---  ------      --------------  ----- \n",
            " 0   id          77261 non-null  object\n",
            " 1   room_id/id  77261 non-null  object\n",
            " 2   noted_date  77261 non-null  object\n",
            " 3   temp        77261 non-null  int64 \n",
            " 4   out/in      77261 non-null  object\n",
            "dtypes: int64(1), object(4)\n",
            "memory usage: 3.5+ MB\n"
          ],
          "name": "stdout"
        }
      ]
    },
    {
      "cell_type": "code",
      "metadata": {
        "colab": {
          "base_uri": "https://localhost:8080/"
        },
        "id": "jgsIYPwZEaqe",
        "outputId": "24754b4a-0a18-42c8-8b43-e3293c7160fb"
      },
      "source": [
        "# Drop sebagian data untuk waktu komputasi yang lebih cepat\n",
        "n = 3000\n",
        "  \n",
        "# Dropping last n rows using drop\n",
        "df.drop(df.tail(n).index, inplace = True)\n",
        "df.info()"
      ],
      "execution_count": null,
      "outputs": [
        {
          "output_type": "stream",
          "text": [
            "<class 'pandas.core.frame.DataFrame'>\n",
            "Int64Index: 20000 entries, 2 to 25439\n",
            "Data columns (total 5 columns):\n",
            " #   Column      Non-Null Count  Dtype \n",
            "---  ------      --------------  ----- \n",
            " 0   id          20000 non-null  object\n",
            " 1   room_id/id  20000 non-null  object\n",
            " 2   noted_date  20000 non-null  object\n",
            " 3   temp        20000 non-null  int64 \n",
            " 4   out/in      20000 non-null  object\n",
            "dtypes: int64(1), object(4)\n",
            "memory usage: 937.5+ KB\n"
          ],
          "name": "stdout"
        }
      ]
    },
    {
      "cell_type": "code",
      "metadata": {
        "colab": {
          "base_uri": "https://localhost:8080/",
          "height": 341
        },
        "id": "YUBsmA35AMV0",
        "outputId": "82c6e57e-8351-4d97-8c82-989ee43b89ac"
      },
      "source": [
        "dates = df['noted_date'].values\n",
        "temp  = df['temp'].values\n",
        " \n",
        " \n",
        "plt.figure(figsize=(15,5))\n",
        "plt.plot(dates, temp)\n",
        "plt.title('Measured Temperature',\n",
        "          fontsize=20);"
      ],
      "execution_count": null,
      "outputs": [
        {
          "output_type": "display_data",
          "data": {
            "image/png": "[encoded data removed]",
            "text/plain": [
              "<Figure size 1080x360 with 1 Axes>"
            ]
          },
          "metadata": {
            "tags": [],
            "needs_background": "light"
          }
        }
      ]
    },
    {
      "cell_type": "code",
      "metadata": {
        "colab": {
          "base_uri": "https://localhost:8080/"
        },
        "id": "L-zgVaozOIsy",
        "outputId": "f0e8d48c-ba31-4bed-e817-b131a36173dc"
      },
      "source": [
        "print(temp.dtype)"
      ],
      "execution_count": null,
      "outputs": [
        {
          "output_type": "stream",
          "text": [
            "int64\n"
          ],
          "name": "stdout"
        }
      ]
    },
    {
      "cell_type": "code",
      "metadata": {
        "colab": {
          "base_uri": "https://localhost:8080/"
        },
        "id": "66qrp3UiONef",
        "outputId": "c1a6b6df-0076-4fb1-ade6-bf2c3f80562f"
      },
      "source": [
        "temp = temp.astype('float32')\n",
        "print(temp.dtype)"
      ],
      "execution_count": null,
      "outputs": [
        {
          "output_type": "stream",
          "text": [
            "float32\n"
          ],
          "name": "stdout"
        }
      ]
    },
    {
      "cell_type": "code",
      "metadata": {
        "colab": {
          "base_uri": "https://localhost:8080/"
        },
        "id": "Pb4vyymjqSp0",
        "outputId": "3aaf8246-bce4-4112-bb19-4b2e7519473c"
      },
      "source": [
        "dates"
      ],
      "execution_count": null,
      "outputs": [
        {
          "output_type": "execute_result",
          "data": {
            "text/plain": [
              "array(['08-12-2018 09:29', '08-12-2018 09:29', '08-12-2018 09:25', ...,\n",
              "       '18-10-2018 03:06', '18-10-2018 03:06', '18-10-2018 03:06'],\n",
              "      dtype=object)"
            ]
          },
          "metadata": {
            "tags": []
          },
          "execution_count": 42
        }
      ]
    },
    {
      "cell_type": "code",
      "metadata": {
        "id": "aWXpveLkcjVv"
      },
      "source": [
        "from sklearn.model_selection import train_test_split\n",
        "\n",
        "temp_train, temp_valid, date_train, date_valid = train_test_split(temp, dates, test_size=0.2, random_state=0)"
      ],
      "execution_count": null,
      "outputs": []
    },
    {
      "cell_type": "code",
      "metadata": {
        "colab": {
          "base_uri": "https://localhost:8080/"
        },
        "id": "JRqykNFzq1Xe",
        "outputId": "93253953-833b-4700-9c2c-920a68013393"
      },
      "source": [
        "print('Train set shape', temp_train.shape)\n",
        "print('Validation set shape', temp_valid.shape)\n",
        "temp_train"
      ],
      "execution_count": null,
      "outputs": [
        {
          "output_type": "stream",
          "text": [
            "Train set shape (16000,)\n",
            "Validation set shape (4000,)\n"
          ],
          "name": "stdout"
        },
        {
          "output_type": "execute_result",
          "data": {
            "text/plain": [
              "array([40., 42., 35., ..., 41., 38., 38.], dtype=float32)"
            ]
          },
          "metadata": {
            "tags": []
          },
          "execution_count": 52
        }
      ]
    },
    {
      "cell_type": "code",
      "metadata": {
        "id": "8NVZY6RvOUeb"
      },
      "source": [
        "def windowed_dataset(series, window_size, batch_size, shuffle_buffer):\n",
        "    series = tf.expand_dims(series, axis=-1)\n",
        "    ds = tf.data.Dataset.from_tensor_slices(series)\n",
        "    ds = ds.window(window_size + 1, shift=1, drop_remainder=True)\n",
        "    ds = ds.flat_map(lambda w: w.batch(window_size + 1))\n",
        "    ds = ds.shuffle(shuffle_buffer)\n",
        "    ds = ds.map(lambda w: (w[:-1], w[-1:]))\n",
        "    return ds.batch(batch_size).prefetch(1)"
      ],
      "execution_count": null,
      "outputs": []
    },
    {
      "cell_type": "code",
      "metadata": {
        "id": "ibz3HYhQaRXv"
      },
      "source": [
        "train_set = windowed_dataset(temp_train, window_size=60, batch_size=100, shuffle_buffer=1000)\n",
        "valid_set = windowed_dataset(temp_valid, window_size=60, batch_size=100, shuffle_buffer=1000)\n",
        "\n",
        "model = tf.keras.models.Sequential([\n",
        "  tf.keras.layers.LSTM(64, return_sequences=True),\n",
        "  tf.keras.layers.LSTM(64),\n",
        "  # tf.keras.layers.Dropout(0.2),\n",
        "  tf.keras.layers.Dense(64, activation=\"relu\"),\n",
        "  # tf.keras.layers.Dropout(0.2),\n",
        "  tf.keras.layers.Dense(10, activation=\"relu\"),\n",
        "  tf.keras.layers.Dense(1),\n",
        "])"
      ],
      "execution_count": null,
      "outputs": []
    },
    {
      "cell_type": "code",
      "metadata": {
        "colab": {
          "base_uri": "https://localhost:8080/"
        },
        "id": "-31_PnsPxNvF",
        "outputId": "0d14f8e1-758d-428a-9044-2fdf4fbbd8e9"
      },
      "source": [
        "train_set"
      ],
      "execution_count": null,
      "outputs": [
        {
          "output_type": "execute_result",
          "data": {
            "text/plain": [
              "<PrefetchDataset shapes: ((None, None, 1), (None, None, 1)), types: (tf.float32, tf.float32)>"
            ]
          },
          "metadata": {
            "tags": []
          },
          "execution_count": 59
        }
      ]
    },
    {
      "cell_type": "code",
      "metadata": {
        "colab": {
          "base_uri": "https://localhost:8080/"
        },
        "id": "EAr5PcD8aVC-",
        "outputId": "29ce360a-bc00-4271-8ef1-81fa052acbd8"
      },
      "source": [
        "from tensorflow import keras\n",
        "\n",
        "optimizer = tf.keras.optimizers.SGD(lr=1.0000e-04, momentum=0.9)\n",
        "\n",
        "# Callback\n",
        "early_stopping_cb = keras.callbacks.EarlyStopping(monitor='mae', patience=4)\n",
        "\n",
        "model.compile(loss=tf.keras.losses.Huber(),\n",
        "              optimizer=optimizer,\n",
        "              metrics=['mae'])\n",
        "history = model.fit(train_set, \n",
        "                    validation_data=(valid_set),\n",
        "                    epochs=50, verbose=1,\n",
        "                    callbacks = [early_stopping_cb]\n",
        "                    )"
      ],
      "execution_count": null,
      "outputs": [
        {
          "output_type": "stream",
          "text": [
            "/usr/local/lib/python3.7/dist-packages/tensorflow/python/keras/optimizer_v2/optimizer_v2.py:375: UserWarning: The `lr` argument is deprecated, use `learning_rate` instead.\n",
            "  \"The `lr` argument is deprecated, use `learning_rate` instead.\")\n"
          ],
          "name": "stderr"
        },
        {
          "output_type": "stream",
          "text": [
            "Epoch 1/50\n",
            "160/160 [==============================] - 25s 132ms/step - loss: 34.4905 - mae: 34.9905 - val_loss: 24.3204 - val_mae: 24.8204\n",
            "Epoch 2/50\n",
            "160/160 [==============================] - 21s 131ms/step - loss: 5.5732 - mae: 6.0417 - val_loss: 2.2565 - val_mae: 2.7174\n",
            "Epoch 3/50\n",
            "160/160 [==============================] - 21s 131ms/step - loss: 2.2348 - mae: 2.6862 - val_loss: 2.2571 - val_mae: 2.7195\n",
            "Epoch 4/50\n",
            "160/160 [==============================] - 21s 132ms/step - loss: 2.2344 - mae: 2.6864 - val_loss: 2.2547 - val_mae: 2.7005\n",
            "Epoch 5/50\n",
            "160/160 [==============================] - 20s 126ms/step - loss: 2.2341 - mae: 2.6866 - val_loss: 2.2553 - val_mae: 2.7116\n",
            "Epoch 6/50\n",
            "160/160 [==============================] - 21s 129ms/step - loss: 2.2325 - mae: 2.6834 - val_loss: 2.2550 - val_mae: 2.7092\n",
            "Epoch 7/50\n",
            "160/160 [==============================] - 21s 128ms/step - loss: 2.2340 - mae: 2.6842 - val_loss: 2.2553 - val_mae: 2.7115\n",
            "Epoch 8/50\n",
            "160/160 [==============================] - 21s 129ms/step - loss: 2.2344 - mae: 2.6876 - val_loss: 2.2555 - val_mae: 2.7131\n",
            "Epoch 9/50\n",
            "160/160 [==============================] - 20s 127ms/step - loss: 2.2355 - mae: 2.6866 - val_loss: 2.2572 - val_mae: 2.7198\n",
            "Epoch 10/50\n",
            "160/160 [==============================] - 20s 126ms/step - loss: 2.2342 - mae: 2.6855 - val_loss: 2.2569 - val_mae: 2.7187\n"
          ],
          "name": "stdout"
        }
      ]
    },
    {
      "cell_type": "code",
      "metadata": {
        "colab": {
          "base_uri": "https://localhost:8080/",
          "height": 295
        },
        "id": "2FkjZ8KsGSDz",
        "outputId": "ecf3032b-02e9-45c9-a660-f2b92349595f"
      },
      "source": [
        "import matplotlib.pyplot as plt\n",
        "\n",
        "# Plotting Model Loss dan Accuracy\n",
        "\n",
        "plt.plot(history.history['loss'])\n",
        "plt.title('Model loss')\n",
        "plt.ylabel('Loss')\n",
        "plt.xlabel('Epoch')\n",
        "plt.legend(['Train'], loc='upper right')\n",
        "plt.show()"
      ],
      "execution_count": null,
      "outputs": [
        {
          "output_type": "display_data",
          "data": {
            "image/png": "[encoded data removed]",
            "text/plain": [
              "<Figure size 432x288 with 1 Axes>"
            ]
          },
          "metadata": {
            "tags": [],
            "needs_background": "light"
          }
        }
      ]
    },
    {
      "cell_type": "code",
      "metadata": {
        "colab": {
          "base_uri": "https://localhost:8080/",
          "height": 295
        },
        "id": "87YkPbV-Ggg8",
        "outputId": "b6426401-be1e-474b-cae7-6f735d738766"
      },
      "source": [
        "plt.plot(history.history['mae'])\n",
        "plt.title('Model Mean Absolute Error')\n",
        "plt.ylabel('MAE')\n",
        "plt.xlabel('Epoch')\n",
        "plt.legend(['Train'], loc='lower right')\n",
        "plt.show()"
      ],
      "execution_count": null,
      "outputs": [
        {
          "output_type": "display_data",
          "data": {
            "image/png": "[encoded data removed]",
            "text/plain": [
              "<Figure size 432x288 with 1 Axes>"
            ]
          },
          "metadata": {
            "tags": [],
            "needs_background": "light"
          }
        }
      ]
    }
  ]
}